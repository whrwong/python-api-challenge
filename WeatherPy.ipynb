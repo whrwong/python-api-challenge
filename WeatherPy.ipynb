{
 "cells": [
  {
   "cell_type": "markdown",
   "metadata": {},
   "source": [
    "# WeatherPy\n",
    "----\n",
    "\n",
    "#### Note\n",
    "* Instructions have been included for each segment. You do not have to follow them exactly, but they are included to help you think through the steps."
   ]
  },
  {
   "cell_type": "code",
   "execution_count": 14,
   "metadata": {
    "scrolled": true
   },
   "outputs": [],
   "source": [
    "# Dependencies and Setup\n",
    "import matplotlib.pyplot as plt\n",
    "import json\n",
    "import pandas as pd\n",
    "import numpy as np\n",
    "import requests\n",
    "import time\n",
    "from scipy.stats import linregress\n",
    "import csv\n",
    "\n",
    "# Import API key\n",
    "from api_keys import weather_api_key\n",
    "\n",
    "# Incorporated citipy to determine city based on latitude and longitude\n",
    "from citipy import citipy\n",
    "\n",
    "# Output File (CSV)\n",
    "output_data_file = \"output_data/cities.csv\"\n",
    "\n",
    "# Range of latitudes and longitudes\n",
    "lat_range = (-90, 90)\n",
    "lng_range = (-180, 180)"
   ]
  },
  {
   "cell_type": "markdown",
   "metadata": {},
   "source": [
    "## Generate Cities List"
   ]
  },
  {
   "cell_type": "code",
   "execution_count": 15,
   "metadata": {},
   "outputs": [
    {
     "data": {
      "text/plain": [
       "278"
      ]
     },
     "execution_count": 15,
     "metadata": {},
     "output_type": "execute_result"
    }
   ],
   "source": [
    "# List for holding lat_lngs and cities\n",
    "lat_lngs = []\n",
    "cities = []\n",
    "\n",
    "# Create a set of random lat and lng combinations\n",
    "lats = np.random.uniform(lat_range[0], lat_range[1], size=500)\n",
    "lngs = np.random.uniform(lng_range[0], lng_range[1], size=500)\n",
    "lat_lngs = zip(lats, lngs)\n",
    "\n",
    "# Identify nearest city for each lat, lng combination\n",
    "for lat_lng in lat_lngs:\n",
    "    city = citipy.nearest_city(lat_lng[0], lat_lng[1]).city_name\n",
    "    \n",
    "    # If the city is unique, then add it to a our cities list\n",
    "    if city not in cities:\n",
    "        cities.append(city)\n",
    "\n",
    "# Print the city count to confirm sufficient count\n",
    "len(cities)"
   ]
  },
  {
   "cell_type": "markdown",
   "metadata": {},
   "source": [
    "### Perform API Calls\n",
    "* Perform a weather check on each city using a series of successive API calls.\n",
    "* Include a print log of each city as it'sbeing processed (with the city number and city name).\n"
   ]
  },
  {
   "cell_type": "code",
   "execution_count": 16,
   "metadata": {},
   "outputs": [
    {
     "name": "stdout",
     "output_type": "stream",
     "text": [
      "Beginning Data Retrieval\n",
      "-----------------------------\n",
      "Processing Record 1 of Set 1 | fillmore\n",
      "Processing Record 2 of Set 1 | bellavista\n",
      "Processing Record 3 of Set 1 | aykhal\n",
      "Processing Record 4 of Set 1 | port alfred\n",
      "Oops, there's no data for louisbourg .\n",
      "Processing Record 6 of Set 1 | sitka\n",
      "Processing Record 7 of Set 1 | mar del plata\n",
      "Processing Record 8 of Set 1 | qaanaaq\n",
      "Processing Record 9 of Set 1 | mahebourg\n",
      "Processing Record 10 of Set 1 | saint-philippe\n",
      "Processing Record 11 of Set 1 | sao filipe\n",
      "Processing Record 12 of Set 1 | saskylakh\n",
      "Processing Record 13 of Set 1 | norman wells\n",
      "Processing Record 14 of Set 1 | trairi\n",
      "Processing Record 15 of Set 1 | novoagansk\n",
      "Processing Record 16 of Set 1 | kaitangata\n",
      "Processing Record 17 of Set 1 | mount gambier\n",
      "Processing Record 18 of Set 1 | kontagora\n",
      "Processing Record 19 of Set 1 | castro\n",
      "Processing Record 20 of Set 1 | kutum\n",
      "Processing Record 21 of Set 1 | bongandanga\n",
      "Processing Record 22 of Set 1 | yellowknife\n",
      "Processing Record 23 of Set 1 | inverell\n",
      "Processing Record 24 of Set 1 | jamestown\n",
      "Processing Record 25 of Set 1 | mataura\n",
      "Processing Record 26 of Set 1 | wanaka\n",
      "Processing Record 27 of Set 1 | dargaville\n",
      "Processing Record 28 of Set 1 | bonfim\n",
      "Processing Record 29 of Set 1 | vaini\n",
      "Processing Record 30 of Set 1 | nikolskoye\n",
      "Processing Record 31 of Set 1 | sao miguel do araguaia\n",
      "Processing Record 32 of Set 1 | lae\n",
      "Processing Record 33 of Set 1 | nanortalik\n",
      "Processing Record 34 of Set 1 | puerto ayora\n",
      "Oops, there's no data for taolanaro .\n",
      "Processing Record 36 of Set 1 | monterey\n",
      "Processing Record 37 of Set 1 | ahuimanu\n",
      "Oops, there's no data for belushya guba .\n",
      "Processing Record 39 of Set 1 | artesia\n",
      "Processing Record 40 of Set 1 | san rafael\n",
      "Processing Record 41 of Set 1 | rincon\n",
      "Processing Record 42 of Set 1 | akyab\n",
      "Processing Record 43 of Set 1 | rikitea\n",
      "Processing Record 44 of Set 1 | yar-sale\n",
      "Processing Record 45 of Set 1 | tuktoyaktuk\n",
      "Processing Record 46 of Set 1 | yerbogachen\n",
      "Processing Record 47 of Set 1 | fort-shevchenko\n",
      "Processing Record 48 of Set 1 | najran\n",
      "Processing Record 49 of Set 1 | tiksi\n",
      "Processing Record 50 of Set 1 | hithadhoo\n",
      "Processing Record 1 of Set 2 | faanui\n",
      "Processing Record 2 of Set 2 | cabo san lucas\n",
      "Processing Record 3 of Set 2 | leningradskiy\n",
      "Processing Record 4 of Set 2 | bardiyah\n",
      "Processing Record 5 of Set 2 | luderitz\n",
      "Processing Record 6 of Set 2 | new norfolk\n",
      "Processing Record 7 of Set 2 | verkhnevilyuysk\n",
      "Processing Record 8 of Set 2 | hobart\n",
      "Processing Record 9 of Set 2 | butaritari\n",
      "Processing Record 10 of Set 2 | atuona\n",
      "Processing Record 11 of Set 2 | avarua\n",
      "Processing Record 12 of Set 2 | tokur\n",
      "Processing Record 13 of Set 2 | iqaluit\n",
      "Processing Record 14 of Set 2 | wellington\n",
      "Processing Record 15 of Set 2 | bethel\n",
      "Processing Record 16 of Set 2 | ushuaia\n",
      "Processing Record 17 of Set 2 | narsaq\n",
      "Processing Record 18 of Set 2 | pisco\n",
      "Processing Record 19 of Set 2 | la grande\n",
      "Processing Record 20 of Set 2 | hermanus\n",
      "Processing Record 21 of Set 2 | san patricio\n",
      "Oops, there's no data for barentsburg .\n",
      "Processing Record 23 of Set 2 | carnarvon\n",
      "Processing Record 24 of Set 2 | kaberamaido\n",
      "Processing Record 25 of Set 2 | kruisfontein\n",
      "Processing Record 26 of Set 2 | yamada\n",
      "Processing Record 27 of Set 2 | saint-joseph\n",
      "Oops, there's no data for attawapiskat .\n",
      "Processing Record 29 of Set 2 | east london\n",
      "Processing Record 30 of Set 2 | hami\n",
      "Processing Record 31 of Set 2 | ponta do sol\n",
      "Processing Record 32 of Set 2 | haverhill\n",
      "Processing Record 33 of Set 2 | scarborough\n",
      "Processing Record 34 of Set 2 | bambous virieux\n",
      "Processing Record 35 of Set 2 | vila velha\n",
      "Processing Record 36 of Set 2 | new amsterdam\n",
      "Processing Record 37 of Set 2 | half moon bay\n",
      "Processing Record 38 of Set 2 | port lincoln\n",
      "Processing Record 39 of Set 2 | la palma\n",
      "Processing Record 40 of Set 2 | muskogee\n",
      "Processing Record 41 of Set 2 | bredasdorp\n",
      "Processing Record 42 of Set 2 | port macquarie\n",
      "Processing Record 43 of Set 2 | mastic beach\n",
      "Processing Record 44 of Set 2 | punta arenas\n",
      "Processing Record 45 of Set 2 | longyearbyen\n",
      "Processing Record 46 of Set 2 | peniche\n",
      "Processing Record 47 of Set 2 | karratha\n",
      "Processing Record 48 of Set 2 | southbridge\n",
      "Processing Record 49 of Set 2 | severo-kurilsk\n",
      "Oops, there's no data for amderma .\n",
      "Processing Record 1 of Set 3 | nhulunbuy\n",
      "Processing Record 2 of Set 3 | souillac\n",
      "Processing Record 3 of Set 3 | bakloh\n",
      "Oops, there's no data for meyungs .\n",
      "Processing Record 5 of Set 3 | soyo\n",
      "Processing Record 6 of Set 3 | husavik\n",
      "Oops, there's no data for tidore .\n",
      "Processing Record 8 of Set 3 | pevek\n",
      "Processing Record 9 of Set 3 | constitucion\n",
      "Processing Record 10 of Set 3 | shimoda\n",
      "Processing Record 11 of Set 3 | cape town\n",
      "Processing Record 12 of Set 3 | busselton\n",
      "Processing Record 13 of Set 3 | ventspils\n",
      "Oops, there's no data for burica .\n",
      "Processing Record 15 of Set 3 | bukama\n",
      "Processing Record 16 of Set 3 | victoria\n",
      "Processing Record 17 of Set 3 | salalah\n",
      "Processing Record 18 of Set 3 | hilo\n",
      "Processing Record 19 of Set 3 | arys\n",
      "Processing Record 20 of Set 3 | mezen\n",
      "Processing Record 21 of Set 3 | palmer\n",
      "Processing Record 22 of Set 3 | champerico\n",
      "Oops, there's no data for palabuhanratu .\n",
      "Oops, there's no data for mys shmidta .\n",
      "Processing Record 25 of Set 3 | aklavik\n",
      "Oops, there's no data for sorvag .\n",
      "Processing Record 27 of Set 3 | nome\n",
      "Processing Record 28 of Set 3 | bluff\n",
      "Processing Record 29 of Set 3 | sembe\n",
      "Processing Record 30 of Set 3 | japura\n",
      "Processing Record 31 of Set 3 | lac du bonnet\n",
      "Processing Record 32 of Set 3 | olafsvik\n",
      "Processing Record 33 of Set 3 | coahuayana\n",
      "Oops, there's no data for samusu .\n",
      "Processing Record 35 of Set 3 | sunnyside\n",
      "Processing Record 36 of Set 3 | borogontsy\n",
      "Processing Record 37 of Set 3 | kyaikto\n",
      "Processing Record 38 of Set 3 | korla\n",
      "Processing Record 39 of Set 3 | albany\n",
      "Processing Record 40 of Set 3 | srednekolymsk\n",
      "Processing Record 41 of Set 3 | port elizabeth\n",
      "Processing Record 42 of Set 3 | tasiilaq\n",
      "Processing Record 43 of Set 3 | corner brook\n",
      "Processing Record 44 of Set 3 | king city\n",
      "Processing Record 45 of Set 3 | haines junction\n",
      "Processing Record 46 of Set 3 | forestville\n",
      "Processing Record 47 of Set 3 | kokoda\n",
      "Processing Record 48 of Set 3 | boende\n",
      "Processing Record 49 of Set 3 | cascais\n",
      "Oops, there's no data for dolbeau .\n",
      "Processing Record 1 of Set 4 | bonthe\n",
      "Processing Record 2 of Set 4 | ojinaga\n",
      "Processing Record 3 of Set 4 | lompoc\n",
      "Processing Record 4 of Set 4 | moose factory\n",
      "Processing Record 5 of Set 4 | klaksvik\n",
      "Processing Record 6 of Set 4 | turayf\n",
      "Processing Record 7 of Set 4 | ribeira grande\n",
      "Oops, there's no data for karaul .\n",
      "Processing Record 9 of Set 4 | cabedelo\n",
      "Processing Record 10 of Set 4 | waddan\n",
      "Processing Record 11 of Set 4 | nadym\n",
      "Processing Record 12 of Set 4 | lagoa\n",
      "Processing Record 13 of Set 4 | touros\n",
      "Processing Record 14 of Set 4 | kalmunai\n",
      "Oops, there's no data for pakwach .\n",
      "Processing Record 16 of Set 4 | nantucket\n",
      "Processing Record 17 of Set 4 | kieta\n",
      "Processing Record 18 of Set 4 | mehamn\n",
      "Processing Record 19 of Set 4 | kologriv\n",
      "Processing Record 20 of Set 4 | batticaloa\n",
      "Processing Record 21 of Set 4 | kaka\n",
      "Processing Record 22 of Set 4 | komsomolskiy\n",
      "Processing Record 23 of Set 4 | abha\n",
      "Processing Record 24 of Set 4 | bestobe\n",
      "Processing Record 25 of Set 4 | chokurdakh\n",
      "Processing Record 26 of Set 4 | ostrovnoy\n",
      "Processing Record 27 of Set 4 | cherskiy\n",
      "Processing Record 28 of Set 4 | mahanoro\n",
      "Processing Record 29 of Set 4 | manzhouli\n",
      "Processing Record 30 of Set 4 | nalut\n",
      "Processing Record 31 of Set 4 | saldanha\n",
      "Processing Record 32 of Set 4 | dhankuta\n",
      "Processing Record 33 of Set 4 | thompson\n",
      "Processing Record 34 of Set 4 | hamilton\n",
      "Processing Record 35 of Set 4 | fort nelson\n",
      "Processing Record 36 of Set 4 | wajir\n",
      "Processing Record 37 of Set 4 | morant bay\n",
      "Oops, there's no data for vaitupu .\n",
      "Processing Record 39 of Set 4 | watsa\n",
      "Processing Record 40 of Set 4 | vestmannaeyjar\n",
      "Processing Record 41 of Set 4 | sao joao da barra\n",
      "Processing Record 42 of Set 4 | khatanga\n",
      "Processing Record 43 of Set 4 | barrow\n",
      "Processing Record 44 of Set 4 | belyy yar\n",
      "Processing Record 45 of Set 4 | provideniya\n",
      "Processing Record 46 of Set 4 | galle\n",
      "Processing Record 47 of Set 4 | arraial do cabo\n",
      "Processing Record 48 of Set 4 | minden\n",
      "Processing Record 49 of Set 4 | batagay-alyta\n"
     ]
    },
    {
     "name": "stdout",
     "output_type": "stream",
     "text": [
      "Oops, there's no data for tumannyy .\n",
      "Processing Record 1 of Set 5 | laguna\n",
      "Processing Record 2 of Set 5 | jever\n",
      "Processing Record 3 of Set 5 | kiboga\n",
      "Processing Record 4 of Set 5 | avera\n",
      "Processing Record 5 of Set 5 | chuy\n",
      "Processing Record 6 of Set 5 | san francisco\n",
      "Oops, there's no data for illoqqortoormiut .\n",
      "Processing Record 8 of Set 5 | tripoli\n",
      "Oops, there's no data for stoyba .\n",
      "Oops, there's no data for chagda .\n",
      "Processing Record 11 of Set 5 | cedral\n",
      "Processing Record 12 of Set 5 | matara\n",
      "Processing Record 13 of Set 5 | kapaa\n",
      "Processing Record 14 of Set 5 | botshabelo\n",
      "Processing Record 15 of Set 5 | maumere\n",
      "Processing Record 16 of Set 5 | kibala\n",
      "Processing Record 17 of Set 5 | tecoanapa\n",
      "Processing Record 18 of Set 5 | eyrarbakki\n",
      "Processing Record 19 of Set 5 | rocha\n",
      "Processing Record 20 of Set 5 | bengkulu\n",
      "Processing Record 21 of Set 5 | quatre cocos\n",
      "Oops, there's no data for kuche .\n",
      "Processing Record 23 of Set 5 | vallenar\n",
      "Processing Record 24 of Set 5 | praia da vitoria\n",
      "Processing Record 25 of Set 5 | sao jose da coroa grande\n",
      "Processing Record 26 of Set 5 | watertown\n",
      "Processing Record 27 of Set 5 | kavaratti\n",
      "Processing Record 28 of Set 5 | westerland\n",
      "Processing Record 29 of Set 5 | bontang\n",
      "Processing Record 30 of Set 5 | baijiantan\n",
      "Processing Record 31 of Set 5 | awbari\n",
      "Processing Record 32 of Set 5 | kongolo\n",
      "Processing Record 33 of Set 5 | acapulco\n",
      "Processing Record 34 of Set 5 | fortuna\n",
      "Processing Record 35 of Set 5 | inhambane\n",
      "Processing Record 36 of Set 5 | hambantota\n",
      "Processing Record 37 of Set 5 | san carlos de bariloche\n",
      "Processing Record 38 of Set 5 | prince rupert\n",
      "Processing Record 39 of Set 5 | sibenik\n",
      "Processing Record 40 of Set 5 | tokonou\n",
      "Processing Record 41 of Set 5 | newport\n",
      "Processing Record 42 of Set 5 | san juan\n",
      "Processing Record 43 of Set 5 | kavieng\n",
      "Processing Record 44 of Set 5 | los llanos de aridane\n",
      "Processing Record 45 of Set 5 | alofi\n",
      "Processing Record 46 of Set 5 | atambua\n",
      "Processing Record 47 of Set 5 | vila franca do campo\n",
      "Processing Record 48 of Set 5 | meulaboh\n",
      "Processing Record 49 of Set 5 | katsuura\n",
      "Processing Record 50 of Set 5 | bilma\n",
      "Processing Record 1 of Set 6 | maningrida\n",
      "Processing Record 2 of Set 6 | coihaique\n",
      "Processing Record 3 of Set 6 | northam\n",
      "Processing Record 4 of Set 6 | puerto carreno\n",
      "Processing Record 5 of Set 6 | ormara\n",
      "Processing Record 6 of Set 6 | mehriz\n",
      "Processing Record 7 of Set 6 | qandala\n",
      "Processing Record 8 of Set 6 | dikson\n",
      "Processing Record 9 of Set 6 | mogadishu\n",
      "Processing Record 10 of Set 6 | kushima\n",
      "Processing Record 11 of Set 6 | hvide sande\n",
      "Processing Record 12 of Set 6 | necochea\n",
      "Processing Record 13 of Set 6 | songjianghe\n",
      "Processing Record 14 of Set 6 | teya\n",
      "Processing Record 15 of Set 6 | jining\n",
      "Processing Record 16 of Set 6 | itaocara\n",
      "Processing Record 17 of Set 6 | grindavik\n",
      "Oops, there's no data for chikoy .\n",
      "Processing Record 19 of Set 6 | totness\n",
      "Oops, there's no data for andarab .\n",
      "Processing Record 21 of Set 6 | nardaran\n",
      "Processing Record 22 of Set 6 | maniitsoq\n",
      "Processing Record 23 of Set 6 | tazovskiy\n",
      "Processing Record 24 of Set 6 | finote selam\n",
      "Processing Record 25 of Set 6 | saint george\n",
      "Processing Record 26 of Set 6 | asfi\n",
      "Processing Record 27 of Set 6 | banjar\n",
      "Processing Record 28 of Set 6 | mitu\n"
     ]
    }
   ],
   "source": [
    "# create a dictionary to hold target info from API\n",
    "city_info = {\"City\":[], \"Lat\":[], \"Lng\":[], \"Max Temp\": [], \"Humidity\": [],\n",
    "             \"Cloudiness\":[], \"Wind Speed\": [], \"Country\":[], \"Date\": []}\n",
    " \n",
    "# keep track of API request\n",
    "x, i = 1, 1\n",
    "\n",
    "# gather data\n",
    "print(\"Beginning Data Retrieval\\n-----------------------------\")\n",
    "for city in cities:\n",
    "    try:\n",
    "        response = requests.get(f\"http://api.openweathermap.org/data/2.5/weather?q={city}&units=imperial&appid={weather_api_key}\").json()\n",
    "        if city not in city_info:\n",
    "            city_info[\"City\"].append(response[\"name\"])\n",
    "            city_info[\"Lat\"].append(response[\"coord\"][\"lat\"])\n",
    "            city_info[\"Lng\"].append(response[\"coord\"][\"lon\"])\n",
    "            city_info[\"Max Temp\"].append(response[\"main\"][\"temp_max\"])\n",
    "            city_info[\"Humidity\"].append(response[\"main\"][\"humidity\"])\n",
    "            city_info[\"Cloudiness\"].append(response[\"clouds\"][\"all\"])\n",
    "            city_info[\"Wind Speed\"].append(response[\"wind\"][\"speed\"])\n",
    "            city_info[\"Country\"].append(response[\"sys\"][\"country\"])\n",
    "            city_info[\"Date\"].append(response[\"dt\"])\n",
    "            print(f\"Processing Record {x} of Set {i} | {city}\")\n",
    "    except KeyError:\n",
    "        print(\"Oops, there's no data for\",city,\".\")\n",
    "    x += 1\n",
    "    if x > 50:\n",
    "        x = 1\n",
    "        i += 1"
   ]
  },
  {
   "cell_type": "markdown",
   "metadata": {},
   "source": [
    "### Convert Raw Data to DataFrame\n",
    "* Export the city data into a .csv.\n",
    "* Display the DataFrame"
   ]
  },
  {
   "cell_type": "code",
   "execution_count": 24,
   "metadata": {
    "scrolled": true
   },
   "outputs": [],
   "source": [
    "# create df\n",
    "city_data = pd.DataFrame(city_info)\n",
    "\n",
    "#display(city_data)\n",
    "\n",
    "# export to csv\n",
    "#city_data.to_csv(city_data)"
   ]
  },
  {
   "cell_type": "code",
   "execution_count": 25,
   "metadata": {},
   "outputs": [
    {
     "name": "stdout",
     "output_type": "stream",
     "text": [
      "             City      Lat       Lng  Max Temp  Humidity  Cloudiness  \\\n",
      "0        Fillmore  43.6666  -92.1002     49.48        66           1   \n",
      "1      Bellavista  -7.0561  -76.5911     72.68        90          76   \n",
      "2          Aykhal  66.0000  111.5000      6.28        97          99   \n",
      "3     Port Alfred -33.5906   26.8910     67.10        85          99   \n",
      "4           Sitka  57.0531 -135.3300     49.89        57          75   \n",
      "..            ...      ...       ...       ...       ...         ...   \n",
      "249  Finote Selam  10.7000   37.2667     58.84        81         100   \n",
      "250  Saint George  37.1041 -113.5841     59.63        42          20   \n",
      "251          Safi  32.2994   -9.2372     64.63        86           0   \n",
      "252        Banjar  -8.1900  114.9675     85.91        73          89   \n",
      "253          Mitú   1.1983  -70.1733     73.06        98         100   \n",
      "\n",
      "     Wind Speed Country        Date  \n",
      "0         10.36      US  1635298755  \n",
      "1          0.36      PE  1635298756  \n",
      "2          5.66      RU  1635298560  \n",
      "3         29.77      ZA  1635298419  \n",
      "4          8.05      US  1635298756  \n",
      "..          ...     ...         ...  \n",
      "249        2.46      ET  1635298856  \n",
      "250        1.01      US  1635298623  \n",
      "251        2.77      MA  1635298717  \n",
      "252        0.72      ID  1635298856  \n",
      "253        0.78      CO  1635298846  \n",
      "\n",
      "[254 rows x 9 columns]\n"
     ]
    }
   ],
   "source": [
    "# display df\n",
    "print(city_data)"
   ]
  },
  {
   "cell_type": "markdown",
   "metadata": {},
   "source": [
    "## Inspect the data and remove the cities where the humidity > 100%.\n",
    "----\n",
    "Skip this step if there are no cities that have humidity > 100%. "
   ]
  },
  {
   "cell_type": "code",
   "execution_count": 26,
   "metadata": {},
   "outputs": [
    {
     "data": {
      "text/html": [
       "<div>\n",
       "<style scoped>\n",
       "    .dataframe tbody tr th:only-of-type {\n",
       "        vertical-align: middle;\n",
       "    }\n",
       "\n",
       "    .dataframe tbody tr th {\n",
       "        vertical-align: top;\n",
       "    }\n",
       "\n",
       "    .dataframe thead th {\n",
       "        text-align: right;\n",
       "    }\n",
       "</style>\n",
       "<table border=\"1\" class=\"dataframe\">\n",
       "  <thead>\n",
       "    <tr style=\"text-align: right;\">\n",
       "      <th></th>\n",
       "      <th>Lat</th>\n",
       "      <th>Lng</th>\n",
       "      <th>Max Temp</th>\n",
       "      <th>Humidity</th>\n",
       "      <th>Cloudiness</th>\n",
       "      <th>Wind Speed</th>\n",
       "      <th>Date</th>\n",
       "    </tr>\n",
       "  </thead>\n",
       "  <tbody>\n",
       "    <tr>\n",
       "      <th>count</th>\n",
       "      <td>254.000000</td>\n",
       "      <td>254.000000</td>\n",
       "      <td>254.000000</td>\n",
       "      <td>254.000000</td>\n",
       "      <td>254.000000</td>\n",
       "      <td>254.000000</td>\n",
       "      <td>2.540000e+02</td>\n",
       "    </tr>\n",
       "    <tr>\n",
       "      <th>mean</th>\n",
       "      <td>19.618526</td>\n",
       "      <td>7.214500</td>\n",
       "      <td>59.098583</td>\n",
       "      <td>74.389764</td>\n",
       "      <td>61.988189</td>\n",
       "      <td>8.389724</td>\n",
       "      <td>1.635299e+09</td>\n",
       "    </tr>\n",
       "    <tr>\n",
       "      <th>std</th>\n",
       "      <td>35.320636</td>\n",
       "      <td>92.852554</td>\n",
       "      <td>21.072128</td>\n",
       "      <td>18.763813</td>\n",
       "      <td>39.632250</td>\n",
       "      <td>6.744201</td>\n",
       "      <td>2.151208e+02</td>\n",
       "    </tr>\n",
       "    <tr>\n",
       "      <th>min</th>\n",
       "      <td>-54.800000</td>\n",
       "      <td>-175.200000</td>\n",
       "      <td>-13.680000</td>\n",
       "      <td>9.000000</td>\n",
       "      <td>0.000000</td>\n",
       "      <td>0.000000</td>\n",
       "      <td>1.635298e+09</td>\n",
       "    </tr>\n",
       "    <tr>\n",
       "      <th>25%</th>\n",
       "      <td>-8.813850</td>\n",
       "      <td>-71.037150</td>\n",
       "      <td>47.940000</td>\n",
       "      <td>65.000000</td>\n",
       "      <td>20.000000</td>\n",
       "      <td>3.410000</td>\n",
       "      <td>1.635298e+09</td>\n",
       "    </tr>\n",
       "    <tr>\n",
       "      <th>50%</th>\n",
       "      <td>25.900450</td>\n",
       "      <td>13.884050</td>\n",
       "      <td>64.505000</td>\n",
       "      <td>80.000000</td>\n",
       "      <td>76.500000</td>\n",
       "      <td>6.910000</td>\n",
       "      <td>1.635299e+09</td>\n",
       "    </tr>\n",
       "    <tr>\n",
       "      <th>75%</th>\n",
       "      <td>49.441675</td>\n",
       "      <td>80.543625</td>\n",
       "      <td>74.995000</td>\n",
       "      <td>88.000000</td>\n",
       "      <td>99.000000</td>\n",
       "      <td>11.980000</td>\n",
       "      <td>1.635299e+09</td>\n",
       "    </tr>\n",
       "    <tr>\n",
       "      <th>max</th>\n",
       "      <td>78.218600</td>\n",
       "      <td>178.416700</td>\n",
       "      <td>92.140000</td>\n",
       "      <td>100.000000</td>\n",
       "      <td>100.000000</td>\n",
       "      <td>43.870000</td>\n",
       "      <td>1.635299e+09</td>\n",
       "    </tr>\n",
       "  </tbody>\n",
       "</table>\n",
       "</div>"
      ],
      "text/plain": [
       "              Lat         Lng    Max Temp    Humidity  Cloudiness  Wind Speed  \\\n",
       "count  254.000000  254.000000  254.000000  254.000000  254.000000  254.000000   \n",
       "mean    19.618526    7.214500   59.098583   74.389764   61.988189    8.389724   \n",
       "std     35.320636   92.852554   21.072128   18.763813   39.632250    6.744201   \n",
       "min    -54.800000 -175.200000  -13.680000    9.000000    0.000000    0.000000   \n",
       "25%     -8.813850  -71.037150   47.940000   65.000000   20.000000    3.410000   \n",
       "50%     25.900450   13.884050   64.505000   80.000000   76.500000    6.910000   \n",
       "75%     49.441675   80.543625   74.995000   88.000000   99.000000   11.980000   \n",
       "max     78.218600  178.416700   92.140000  100.000000  100.000000   43.870000   \n",
       "\n",
       "               Date  \n",
       "count  2.540000e+02  \n",
       "mean   1.635299e+09  \n",
       "std    2.151208e+02  \n",
       "min    1.635298e+09  \n",
       "25%    1.635298e+09  \n",
       "50%    1.635299e+09  \n",
       "75%    1.635299e+09  \n",
       "max    1.635299e+09  "
      ]
     },
     "execution_count": 26,
     "metadata": {},
     "output_type": "execute_result"
    }
   ],
   "source": [
    "clean_df = city_data.drop(columns=[\"City\", \"Country\"])\n",
    "#print(clean_df)\n",
    "\n",
    "Hum_100 = {}\n",
    "\n",
    "# create summary table where humidity is less than 100%\n",
    "for column in clean_df.columns:\n",
    "    Hum_100[column] = [clean_df[column].count(),\n",
    "                         clean_df[column].mean(),\n",
    "                         clean_df[column].std(),\n",
    "                         clean_df[column].min(),\n",
    "                         clean_df[column].quantile(.25),\n",
    "                         clean_df[column].quantile(.50),\n",
    "                         clean_df[column].quantile(.75),\n",
    "                         clean_df[column].max()]\n",
    "H100_df = pd.DataFrame(Hum_100)\n",
    "index_names = {0:'count', 1:'mean', 2:'std', 3:'min', 4:'25%', 5:'50%', 6:'75%', 7:'max'}\n",
    "H100_df = H100_df.rename(index=index_names)\n",
    "H100_df"
   ]
  },
  {
   "cell_type": "code",
   "execution_count": 27,
   "metadata": {},
   "outputs": [
    {
     "data": {
      "text/plain": [
       "Int64Index([20, 41, 168, 174, 213], dtype='int64')"
      ]
     },
     "execution_count": 27,
     "metadata": {},
     "output_type": "execute_result"
    }
   ],
   "source": [
    "#  Get the indices of cities that have humidity over 100%.\n",
    "humidity = clean_df[clean_df[\"Humidity\"] >= 100]\n",
    "humidity.index"
   ]
  },
  {
   "cell_type": "code",
   "execution_count": 28,
   "metadata": {},
   "outputs": [
    {
     "data": {
      "text/html": [
       "<div>\n",
       "<style scoped>\n",
       "    .dataframe tbody tr th:only-of-type {\n",
       "        vertical-align: middle;\n",
       "    }\n",
       "\n",
       "    .dataframe tbody tr th {\n",
       "        vertical-align: top;\n",
       "    }\n",
       "\n",
       "    .dataframe thead th {\n",
       "        text-align: right;\n",
       "    }\n",
       "</style>\n",
       "<table border=\"1\" class=\"dataframe\">\n",
       "  <thead>\n",
       "    <tr style=\"text-align: right;\">\n",
       "      <th></th>\n",
       "      <th>Lat</th>\n",
       "      <th>Lng</th>\n",
       "      <th>Max Temp</th>\n",
       "      <th>Humidity</th>\n",
       "      <th>Cloudiness</th>\n",
       "      <th>Wind Speed</th>\n",
       "      <th>Date</th>\n",
       "    </tr>\n",
       "  </thead>\n",
       "  <tbody>\n",
       "    <tr>\n",
       "      <th>0</th>\n",
       "      <td>43.6666</td>\n",
       "      <td>-92.1002</td>\n",
       "      <td>49.48</td>\n",
       "      <td>66</td>\n",
       "      <td>1</td>\n",
       "      <td>10.36</td>\n",
       "      <td>1635298755</td>\n",
       "    </tr>\n",
       "    <tr>\n",
       "      <th>1</th>\n",
       "      <td>-7.0561</td>\n",
       "      <td>-76.5911</td>\n",
       "      <td>72.68</td>\n",
       "      <td>90</td>\n",
       "      <td>76</td>\n",
       "      <td>0.36</td>\n",
       "      <td>1635298756</td>\n",
       "    </tr>\n",
       "    <tr>\n",
       "      <th>2</th>\n",
       "      <td>66.0000</td>\n",
       "      <td>111.5000</td>\n",
       "      <td>6.28</td>\n",
       "      <td>97</td>\n",
       "      <td>99</td>\n",
       "      <td>5.66</td>\n",
       "      <td>1635298560</td>\n",
       "    </tr>\n",
       "    <tr>\n",
       "      <th>3</th>\n",
       "      <td>-33.5906</td>\n",
       "      <td>26.8910</td>\n",
       "      <td>67.10</td>\n",
       "      <td>85</td>\n",
       "      <td>99</td>\n",
       "      <td>29.77</td>\n",
       "      <td>1635298419</td>\n",
       "    </tr>\n",
       "    <tr>\n",
       "      <th>4</th>\n",
       "      <td>57.0531</td>\n",
       "      <td>-135.3300</td>\n",
       "      <td>49.89</td>\n",
       "      <td>57</td>\n",
       "      <td>75</td>\n",
       "      <td>8.05</td>\n",
       "      <td>1635298756</td>\n",
       "    </tr>\n",
       "    <tr>\n",
       "      <th>...</th>\n",
       "      <td>...</td>\n",
       "      <td>...</td>\n",
       "      <td>...</td>\n",
       "      <td>...</td>\n",
       "      <td>...</td>\n",
       "      <td>...</td>\n",
       "      <td>...</td>\n",
       "    </tr>\n",
       "    <tr>\n",
       "      <th>249</th>\n",
       "      <td>10.7000</td>\n",
       "      <td>37.2667</td>\n",
       "      <td>58.84</td>\n",
       "      <td>81</td>\n",
       "      <td>100</td>\n",
       "      <td>2.46</td>\n",
       "      <td>1635298856</td>\n",
       "    </tr>\n",
       "    <tr>\n",
       "      <th>250</th>\n",
       "      <td>37.1041</td>\n",
       "      <td>-113.5841</td>\n",
       "      <td>59.63</td>\n",
       "      <td>42</td>\n",
       "      <td>20</td>\n",
       "      <td>1.01</td>\n",
       "      <td>1635298623</td>\n",
       "    </tr>\n",
       "    <tr>\n",
       "      <th>251</th>\n",
       "      <td>32.2994</td>\n",
       "      <td>-9.2372</td>\n",
       "      <td>64.63</td>\n",
       "      <td>86</td>\n",
       "      <td>0</td>\n",
       "      <td>2.77</td>\n",
       "      <td>1635298717</td>\n",
       "    </tr>\n",
       "    <tr>\n",
       "      <th>252</th>\n",
       "      <td>-8.1900</td>\n",
       "      <td>114.9675</td>\n",
       "      <td>85.91</td>\n",
       "      <td>73</td>\n",
       "      <td>89</td>\n",
       "      <td>0.72</td>\n",
       "      <td>1635298856</td>\n",
       "    </tr>\n",
       "    <tr>\n",
       "      <th>253</th>\n",
       "      <td>1.1983</td>\n",
       "      <td>-70.1733</td>\n",
       "      <td>73.06</td>\n",
       "      <td>98</td>\n",
       "      <td>100</td>\n",
       "      <td>0.78</td>\n",
       "      <td>1635298846</td>\n",
       "    </tr>\n",
       "  </tbody>\n",
       "</table>\n",
       "<p>249 rows × 7 columns</p>\n",
       "</div>"
      ],
      "text/plain": [
       "         Lat       Lng  Max Temp  Humidity  Cloudiness  Wind Speed        Date\n",
       "0    43.6666  -92.1002     49.48        66           1       10.36  1635298755\n",
       "1    -7.0561  -76.5911     72.68        90          76        0.36  1635298756\n",
       "2    66.0000  111.5000      6.28        97          99        5.66  1635298560\n",
       "3   -33.5906   26.8910     67.10        85          99       29.77  1635298419\n",
       "4    57.0531 -135.3300     49.89        57          75        8.05  1635298756\n",
       "..       ...       ...       ...       ...         ...         ...         ...\n",
       "249  10.7000   37.2667     58.84        81         100        2.46  1635298856\n",
       "250  37.1041 -113.5841     59.63        42          20        1.01  1635298623\n",
       "251  32.2994   -9.2372     64.63        86           0        2.77  1635298717\n",
       "252  -8.1900  114.9675     85.91        73          89        0.72  1635298856\n",
       "253   1.1983  -70.1733     73.06        98         100        0.78  1635298846\n",
       "\n",
       "[249 rows x 7 columns]"
      ]
     },
     "execution_count": 28,
     "metadata": {},
     "output_type": "execute_result"
    }
   ],
   "source": [
    "# Make a new DataFrame equal to the city data to drop all humidity outliers by index.\n",
    "# Passing \"inplace=False\" will make a copy of the city_data DataFrame, which we call \"clean_city_data\".\n",
    "\n",
    "clean_city_data = clean_df.drop(humidity.index)\n",
    "clean_city_data"
   ]
  },
  {
   "cell_type": "markdown",
   "metadata": {},
   "source": [
    "## Plotting the Data\n",
    "* Use proper labeling of the plots using plot titles (including date of analysis) and axes labels.\n",
    "* Save the plotted figures as .pngs."
   ]
  },
  {
   "cell_type": "markdown",
   "metadata": {},
   "source": [
    "## Latitude vs. Temperature Plot"
   ]
  },
  {
   "cell_type": "code",
   "execution_count": 29,
   "metadata": {},
   "outputs": [
    {
     "data": {
      "image/png": "[encoded data removed]",
      "text/plain": [
       "<Figure size 432x288 with 1 Axes>"
      ]
     },
     "metadata": {
      "needs_background": "light"
     },
     "output_type": "display_data"
    }
   ],
   "source": [
    "scatter1 = clean_city_data.plot.scatter(x='Lat',\n",
    "                    y='Max Temp',\n",
    "                    title = \"City Latitude vs. Max Temperature\")"
   ]
  },
  {
   "cell_type": "markdown",
   "metadata": {},
   "source": [
    "## Latitude vs. Humidity Plot"
   ]
  },
  {
   "cell_type": "code",
   "execution_count": 13,
   "metadata": {},
   "outputs": [
    {
     "data": {
      "image/png": "[encoded data removed]",
      "text/plain": [
       "<Figure size 432x288 with 1 Axes>"
      ]
     },
     "metadata": {
      "needs_background": "light"
     },
     "output_type": "display_data"
    }
   ],
   "source": [
    "scatter2 = clean_city_data.plot.scatter(x='Lat',\n",
    "                    y='Humidity',\n",
    "                    title = \"City Latitude vs. Humidity\")"
   ]
  },
  {
   "cell_type": "markdown",
   "metadata": {},
   "source": [
    "## Latitude vs. Cloudiness Plot"
   ]
  },
  {
   "cell_type": "code",
   "execution_count": 30,
   "metadata": {},
   "outputs": [
    {
     "data": {
      "image/png": "[encoded data removed]",
      "text/plain": [
       "<Figure size 432x288 with 1 Axes>"
      ]
     },
     "metadata": {
      "needs_background": "light"
     },
     "output_type": "display_data"
    }
   ],
   "source": [
    "scatter3 = clean_city_data.plot.scatter(x='Lat',\n",
    "                    y='Cloudiness',\n",
    "                    title = \"City Latitude vs. Cloudiness\")"
   ]
  },
  {
   "cell_type": "markdown",
   "metadata": {},
   "source": [
    "## Latitude vs. Wind Speed Plot"
   ]
  },
  {
   "cell_type": "code",
   "execution_count": 31,
   "metadata": {},
   "outputs": [
    {
     "data": {
      "image/png": "[encoded data removed]",
      "text/plain": [
       "<Figure size 432x288 with 1 Axes>"
      ]
     },
     "metadata": {
      "needs_background": "light"
     },
     "output_type": "display_data"
    }
   ],
   "source": [
    "scatter3 = clean_city_data.plot.scatter(x='Lat',\n",
    "                    y='Wind Speed',\n",
    "                    title = \"City Latitude vs. Wind Speed\")"
   ]
  },
  {
   "cell_type": "code",
   "execution_count": null,
   "metadata": {},
   "outputs": [],
   "source": [
    "# code for renaming columns\n",
    "#df_better_columns =df_clean.rename(columns={\"Lat\":\"Latitude\", \"Lng\":\"Logitude\", \"Max Temp\":\"Max Temperature (F)\",\n",
    "#                                   \"Humidity\": \"Humidity (%)\", \"Cloudiness\":\"Cloudiness (%)\",\n",
    "#                                  \"Wind Speed\":\"Wind Speed (mph)\"})"
   ]
  },
  {
   "cell_type": "markdown",
   "metadata": {},
   "source": [
    "## Linear Regression"
   ]
  },
  {
   "cell_type": "code",
   "execution_count": 32,
   "metadata": {},
   "outputs": [],
   "source": [
    "nh_weather = clean_city_data[clean_city_data[\"Lat\"] > 0]\n",
    "sh_weather = clean_city_data[clean_city_data[\"Lat\"] < 0]\n",
    "#nh_weather.describe()\n",
    "#sh_weather.describe()"
   ]
  },
  {
   "cell_type": "code",
   "execution_count": 33,
   "metadata": {},
   "outputs": [
    {
     "name": "stdout",
     "output_type": "stream",
     "text": [
      "         Lat       Lng  Max Temp  Humidity  Cloudiness  Wind Speed        Date\n",
      "0    43.6666  -92.1002     49.48        66           1       10.36  1635298755\n",
      "2    66.0000  111.5000      6.28        97          99        5.66  1635298560\n",
      "4    57.0531 -135.3300     49.89        57          75        8.05  1635298756\n",
      "6    77.4840  -69.3632     20.07        94         100       13.76  1635298423\n",
      "9    14.8961  -24.4956     78.93        77          61       11.36  1635298725\n",
      "..       ...       ...       ...       ...         ...         ...         ...\n",
      "248  67.4667   78.7000     17.98        95         100       12.01  1635298621\n",
      "249  10.7000   37.2667     58.84        81         100        2.46  1635298856\n",
      "250  37.1041 -113.5841     59.63        42          20        1.01  1635298623\n",
      "251  32.2994   -9.2372     64.63        86           0        2.77  1635298717\n",
      "253   1.1983  -70.1733     73.06        98         100        0.78  1635298846\n",
      "\n",
      "[169 rows x 7 columns]\n"
     ]
    }
   ],
   "source": [
    "print(nh_weather)"
   ]
  },
  {
   "cell_type": "markdown",
   "metadata": {},
   "source": [
    "####  Northern Hemisphere - Max Temp vs. Latitude Linear Regression"
   ]
  },
  {
   "cell_type": "code",
   "execution_count": 39,
   "metadata": {},
   "outputs": [],
   "source": [
    "north_weather = nh_weather.rename(columns={\"Lat\":\"Latitude\", \"Lng\":\"Logitude\", \"Max Temp\":\"Max_Temperature\", \"Humidity\":\"Humidity\", \"Cloudiness\":\"Cloudiness\", \"Wind Speed\":\"Wind_Speed\"})\n",
    "\n",
    "south_weather = sh_weather.rename(columns={\"Lat\":\"Latitude\", \"Lng\":\"Logitude\", \"Max Temp\":\"Max_Temperature\", \"Humidity\":\"Humidity\", \"Cloudiness\":\"Cloudiness\", \"Wind Speed\":\"Wind_Speed\"})"
   ]
  },
  {
   "cell_type": "code",
   "execution_count": 54,
   "metadata": {},
   "outputs": [
    {
     "name": "stdout",
     "output_type": "stream",
     "text": [
      "-0.8607305874677124\n"
     ]
    },
    {
     "data": {
      "text/plain": [
       "Text(0, 0, 'y=84.06+-0.83*x')"
      ]
     },
     "execution_count": 54,
     "metadata": {},
     "output_type": "execute_result"
    },
    {
     "data": {
      "image/png": "[encoded data removed]",
      "text/plain": [
       "<Figure size 432x288 with 1 Axes>"
      ]
     },
     "metadata": {
      "needs_background": "light"
     },
     "output_type": "display_data"
    }
   ],
   "source": [
    "r = north_weather.corr(method='pearson', min_periods=1)\n",
    "print(r['Max_Temperature']['Latitude'])\n",
    "temp_fit = np.polyfit(north_weather.Max_Temperature, north_weather.Latitude, 1)\n",
    "lr_scatter1 = north_weather.plot.scatter(x='Latitude', y='Max_Temperature', color='blue', alpha=0.5)\n",
    "plt.plot(north_weather.Max_Temperature, temp_fit[0] * north_weather.Max_Temperature + temp_fit[1], color = 'darkblue', linewidth = 2)\n",
    "plt.text(0, 0, 'y={:.2f}+{:.2f}*x'.format(temp_fit[1], temp_fit[0]), color='darkblue', size=12)\n"
   ]
  },
  {
   "cell_type": "markdown",
   "metadata": {},
   "source": [
    "####  Southern Hemisphere - Max Temp vs. Latitude Linear Regression"
   ]
  },
  {
   "cell_type": "code",
   "execution_count": 59,
   "metadata": {},
   "outputs": [
    {
     "name": "stdout",
     "output_type": "stream",
     "text": [
      "0.68353106588339\n"
     ]
    },
    {
     "data": {
      "text/plain": [
       "Text(-40, -40, 'y=-89.01+0.92*x')"
      ]
     },
     "execution_count": 59,
     "metadata": {},
     "output_type": "execute_result"
    },
    {
     "data": {
      "image/png": "[encoded data removed]",
      "text/plain": [
       "<Figure size 432x288 with 1 Axes>"
      ]
     },
     "metadata": {
      "needs_background": "light"
     },
     "output_type": "display_data"
    }
   ],
   "source": [
    "r = south_weather.corr(method='pearson', min_periods=1)\n",
    "print(r['Max_Temperature']['Latitude'])\n",
    "temp_fit = np.polyfit(south_weather.Max_Temperature, south_weather.Latitude, 1)\n",
    "south_weather.plot.scatter(x='Latitude', y='Max_Temperature', color='blue', alpha=0.5)\n",
    "plt.plot(south_weather.Max_Temperature, temp_fit[0] * south_weather.Max_Temperature + temp_fit[1], color = 'darkblue', linewidth = 2)\n",
    "plt.text(-40, -40, 'y={:.2f}+{:.2f}*x'.format(temp_fit[1], temp_fit[0]), color='darkblue', size=12)\n"
   ]
  },
  {
   "cell_type": "markdown",
   "metadata": {},
   "source": [
    "####  Northern Hemisphere - Humidity (%) vs. Latitude Linear Regression"
   ]
  },
  {
   "cell_type": "code",
   "execution_count": null,
   "metadata": {},
   "outputs": [],
   "source": [
    "r = south_weather.corr(method='pearson', min_periods=1)\n",
    "print(r['Max_Temperature']['Latitude'])\n",
    "temp_fit = np.polyfit(south_weather.Max_Temperature, south_weather.Latitude, 1)\n",
    "south_weather.plot.scatter(x='Latitude', y='Max_Temperature', color='blue', alpha=0.5)\n",
    "plt.plot(south_weather.Max_Temperature, temp_fit[0] * south_weather.Max_Temperature + temp_fit[1], color = 'darkblue', linewidth = 2)\n",
    "plt.text(-40, -40, 'y={:.2f}+{:.2f}*x'.format(temp_fit[1], temp_fit[0]), color='darkblue', size=12)\n"
   ]
  },
  {
   "cell_type": "markdown",
   "metadata": {},
   "source": [
    "####  Southern Hemisphere - Humidity (%) vs. Latitude Linear Regression"
   ]
  },
  {
   "cell_type": "code",
   "execution_count": null,
   "metadata": {},
   "outputs": [],
   "source": []
  },
  {
   "cell_type": "markdown",
   "metadata": {},
   "source": [
    "####  Northern Hemisphere - Cloudiness (%) vs. Latitude Linear Regression"
   ]
  },
  {
   "cell_type": "code",
   "execution_count": null,
   "metadata": {},
   "outputs": [],
   "source": []
  },
  {
   "cell_type": "markdown",
   "metadata": {},
   "source": [
    "####  Southern Hemisphere - Cloudiness (%) vs. Latitude Linear Regression"
   ]
  },
  {
   "cell_type": "code",
   "execution_count": null,
   "metadata": {},
   "outputs": [],
   "source": []
  },
  {
   "cell_type": "markdown",
   "metadata": {},
   "source": [
    "####  Northern Hemisphere - Wind Speed (mph) vs. Latitude Linear Regression"
   ]
  },
  {
   "cell_type": "code",
   "execution_count": null,
   "metadata": {},
   "outputs": [],
   "source": []
  },
  {
   "cell_type": "markdown",
   "metadata": {},
   "source": [
    "####  Southern Hemisphere - Wind Speed (mph) vs. Latitude Linear Regression"
   ]
  },
  {
   "cell_type": "code",
   "execution_count": null,
   "metadata": {},
   "outputs": [],
   "source": []
  },
  {
   "cell_type": "code",
   "execution_count": null,
   "metadata": {},
   "outputs": [],
   "source": []
  }
 ],
 "metadata": {
  "anaconda-cloud": {},
  "kernel_info": {
   "name": "python3"
  },
  "kernelspec": {
   "display_name": "Python 3 (ipykernel)",
   "language": "python",
   "name": "python3"
  },
  "language_info": {
   "codemirror_mode": {
    "name": "ipython",
    "version": 3
   },
   "file_extension": ".py",
   "mimetype": "text/x-python",
   "name": "python",
   "nbconvert_exporter": "python",
   "pygments_lexer": "ipython3",
   "version": "3.8.11"
  },
  "latex_envs": {
   "LaTeX_envs_menu_present": true,
   "autoclose": false,
   "autocomplete": true,
   "bibliofile": "biblio.bib",
   "cite_by": "apalike",
   "current_citInitial": 1,
   "eqLabelWithNumbers": true,
   "eqNumInitial": 1,
   "hotkeys": {
    "equation": "Ctrl-E",
    "itemize": "Ctrl-I"
   },
   "labels_anchors": false,
   "latex_user_defs": false,
   "report_style_numbering": false,
   "user_envs_cfg": false
  },
  "nteract": {
   "version": "0.12.3"
  }
 },
 "nbformat": 4,
 "nbformat_minor": 2
}
