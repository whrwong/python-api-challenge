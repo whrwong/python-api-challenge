{
 "cells": [
  {
   "cell_type": "markdown",
   "metadata": {},
   "source": [
    "# WeatherPy\n",
    "----\n",
    "\n",
    "#### Note\n",
    "* Instructions have been included for each segment. You do not have to follow them exactly, but they are included to help you think through the steps."
   ]
  },
  {
   "cell_type": "code",
   "execution_count": 2,
   "metadata": {
    "scrolled": true
   },
   "outputs": [],
   "source": [
    "# Dependencies and Setup\n",
    "import matplotlib.pyplot as plt\n",
    "import json\n",
    "import pandas as pd\n",
    "import numpy as np\n",
    "import requests\n",
    "import time\n",
    "from scipy.stats import linregress\n",
    "import csv\n",
    "\n",
    "# Import API key\n",
    "from api_keys import weather_api_key\n",
    "\n",
    "# Incorporated citipy to determine city based on latitude and longitude\n",
    "from citipy import citipy\n",
    "\n",
    "# Output File (CSV)\n",
    "output_data_file = \"output_data/cities.csv\"\n",
    "\n",
    "# Range of latitudes and longitudes\n",
    "lat_range = (-90, 90)\n",
    "lng_range = (-180, 180)"
   ]
  },
  {
   "cell_type": "markdown",
   "metadata": {},
   "source": [
    "## Generate Cities List"
   ]
  },
  {
   "cell_type": "code",
   "execution_count": 3,
   "metadata": {},
   "outputs": [
    {
     "data": {
      "text/plain": [
       "279"
      ]
     },
     "execution_count": 3,
     "metadata": {},
     "output_type": "execute_result"
    }
   ],
   "source": [
    "# List for holding lat_lngs and cities\n",
    "lat_lngs = []\n",
    "cities = []\n",
    "\n",
    "# Create a set of random lat and lng combinations\n",
    "lats = np.random.uniform(lat_range[0], lat_range[1], size=500)\n",
    "lngs = np.random.uniform(lng_range[0], lng_range[1], size=500)\n",
    "lat_lngs = zip(lats, lngs)\n",
    "\n",
    "# Identify nearest city for each lat, lng combination\n",
    "for lat_lng in lat_lngs:\n",
    "    city = citipy.nearest_city(lat_lng[0], lat_lng[1]).city_name\n",
    "    \n",
    "    # If the city is unique, then add it to a our cities list\n",
    "    if city not in cities:\n",
    "        cities.append(city)\n",
    "\n",
    "# Print the city count to confirm sufficient count\n",
    "len(cities)"
   ]
  },
  {
   "cell_type": "markdown",
   "metadata": {},
   "source": [
    "### Perform API Calls\n",
    "* Perform a weather check on each city using a series of successive API calls.\n",
    "* Include a print log of each city as it'sbeing processed (with the city number and city name).\n"
   ]
  },
  {
   "cell_type": "code",
   "execution_count": 4,
   "metadata": {},
   "outputs": [
    {
     "name": "stdout",
     "output_type": "stream",
     "text": [
      "Beginning Data Retrieval\n",
      "-----------------------------\n",
      "Processing Record 1 of Set 1 | punta arenas\n",
      "Processing Record 2 of Set 1 | havre\n",
      "Processing Record 3 of Set 1 | bluff\n",
      "Processing Record 4 of Set 1 | ushuaia\n",
      "Processing Record 5 of Set 1 | abadan\n",
      "Processing Record 6 of Set 1 | muli\n",
      "Processing Record 7 of Set 1 | mecca\n",
      "Processing Record 8 of Set 1 | vaini\n",
      "Processing Record 9 of Set 1 | oparino\n",
      "Processing Record 10 of Set 1 | georgetown\n",
      "Processing Record 11 of Set 1 | rikitea\n",
      "Processing Record 12 of Set 1 | hermanus\n",
      "Processing Record 13 of Set 1 | campoverde\n",
      "Processing Record 14 of Set 1 | tahoua\n",
      "Oops, there's no data for kuche .\n",
      "Processing Record 16 of Set 1 | touros\n",
      "Processing Record 17 of Set 1 | kavieng\n",
      "Processing Record 18 of Set 1 | katsuura\n",
      "Processing Record 19 of Set 1 | nizwa\n",
      "Processing Record 20 of Set 1 | san rafael\n",
      "Processing Record 21 of Set 1 | lodja\n",
      "Processing Record 22 of Set 1 | souillac\n",
      "Processing Record 23 of Set 1 | kichera\n",
      "Processing Record 24 of Set 1 | albany\n",
      "Processing Record 25 of Set 1 | khatanga\n",
      "Processing Record 26 of Set 1 | mataura\n",
      "Processing Record 27 of Set 1 | mar del plata\n",
      "Processing Record 28 of Set 1 | airai\n",
      "Processing Record 29 of Set 1 | kirkenaer\n",
      "Processing Record 30 of Set 1 | flinders\n",
      "Processing Record 31 of Set 1 | ramachandrapuram\n",
      "Processing Record 32 of Set 1 | leningradskiy\n",
      "Processing Record 33 of Set 1 | yellowknife\n",
      "Processing Record 34 of Set 1 | pisco\n",
      "Oops, there's no data for attawapiskat .\n",
      "Processing Record 36 of Set 1 | kapaa\n",
      "Processing Record 37 of Set 1 | mahebourg\n",
      "Processing Record 38 of Set 1 | dikson\n",
      "Processing Record 39 of Set 1 | rocha\n",
      "Processing Record 40 of Set 1 | nanakuli\n",
      "Processing Record 41 of Set 1 | dingle\n",
      "Processing Record 42 of Set 1 | galabovo\n",
      "Processing Record 43 of Set 1 | ancud\n",
      "Processing Record 44 of Set 1 | arlit\n",
      "Processing Record 45 of Set 1 | half moon bay\n",
      "Processing Record 46 of Set 1 | yatou\n",
      "Processing Record 47 of Set 1 | lagoa\n",
      "Processing Record 48 of Set 1 | bredasdorp\n",
      "Oops, there's no data for taolanaro .\n",
      "Processing Record 50 of Set 1 | trelew\n",
      "Processing Record 1 of Set 2 | saint george\n",
      "Oops, there's no data for grand river south east .\n",
      "Processing Record 3 of Set 2 | medicine hat\n",
      "Processing Record 4 of Set 2 | sao filipe\n",
      "Oops, there's no data for mys shmidta .\n",
      "Processing Record 6 of Set 2 | choszczno\n",
      "Processing Record 7 of Set 2 | ayia galini\n",
      "Processing Record 8 of Set 2 | lucea\n",
      "Processing Record 9 of Set 2 | sijunjung\n",
      "Processing Record 10 of Set 2 | almenara\n",
      "Processing Record 11 of Set 2 | cherskiy\n",
      "Processing Record 12 of Set 2 | codrington\n",
      "Processing Record 13 of Set 2 | hithadhoo\n",
      "Processing Record 14 of Set 2 | new norfolk\n",
      "Processing Record 15 of Set 2 | cherrapunji\n",
      "Processing Record 16 of Set 2 | east london\n",
      "Processing Record 17 of Set 2 | hilo\n",
      "Processing Record 18 of Set 2 | butaritari\n",
      "Processing Record 19 of Set 2 | kemijarvi\n",
      "Processing Record 20 of Set 2 | boueni\n",
      "Processing Record 21 of Set 2 | severo-kurilsk\n",
      "Processing Record 22 of Set 2 | pevek\n",
      "Processing Record 23 of Set 2 | griffith\n",
      "Processing Record 24 of Set 2 | ulaangom\n",
      "Processing Record 25 of Set 2 | boyolangu\n",
      "Processing Record 26 of Set 2 | beringovskiy\n",
      "Processing Record 27 of Set 2 | longyearbyen\n",
      "Processing Record 28 of Set 2 | zeya\n",
      "Processing Record 29 of Set 2 | panacan\n",
      "Processing Record 30 of Set 2 | aksarka\n",
      "Processing Record 31 of Set 2 | jamestown\n",
      "Processing Record 32 of Set 2 | luanda\n",
      "Processing Record 33 of Set 2 | port alfred\n",
      "Processing Record 34 of Set 2 | santa cruz\n",
      "Processing Record 35 of Set 2 | edd\n",
      "Oops, there's no data for samusu .\n",
      "Oops, there's no data for marcona .\n",
      "Processing Record 38 of Set 2 | ilulissat\n",
      "Processing Record 39 of Set 2 | puerto ayora\n",
      "Processing Record 40 of Set 2 | thompson\n",
      "Processing Record 41 of Set 2 | stornoway\n",
      "Processing Record 42 of Set 2 | san juan\n",
      "Processing Record 43 of Set 2 | carnarvon\n",
      "Processing Record 44 of Set 2 | fortuna\n",
      "Processing Record 45 of Set 2 | calama\n",
      "Processing Record 46 of Set 2 | bilibino\n",
      "Processing Record 47 of Set 2 | busselton\n",
      "Processing Record 48 of Set 2 | ouango\n",
      "Processing Record 49 of Set 2 | camabatela\n",
      "Processing Record 50 of Set 2 | chicama\n",
      "Processing Record 1 of Set 3 | bathsheba\n",
      "Processing Record 2 of Set 3 | constitucion\n",
      "Processing Record 3 of Set 3 | mayahi\n",
      "Processing Record 4 of Set 3 | pangody\n",
      "Processing Record 5 of Set 3 | lebu\n",
      "Processing Record 6 of Set 3 | soto la marina\n",
      "Processing Record 7 of Set 3 | langub\n",
      "Processing Record 8 of Set 3 | barrow\n",
      "Processing Record 9 of Set 3 | singapore\n",
      "Processing Record 10 of Set 3 | muros\n",
      "Processing Record 11 of Set 3 | aykhal\n",
      "Processing Record 12 of Set 3 | waipawa\n",
      "Processing Record 13 of Set 3 | hobart\n",
      "Oops, there's no data for buqayq .\n",
      "Processing Record 15 of Set 3 | castro\n",
      "Processing Record 16 of Set 3 | tiksi\n",
      "Processing Record 17 of Set 3 | atuona\n",
      "Processing Record 18 of Set 3 | vaitape\n",
      "Processing Record 19 of Set 3 | naze\n",
      "Oops, there's no data for barentsburg .\n",
      "Processing Record 21 of Set 3 | vanavara\n",
      "Processing Record 22 of Set 3 | qaqortoq\n",
      "Processing Record 23 of Set 3 | mantua\n",
      "Processing Record 24 of Set 3 | aklavik\n",
      "Processing Record 25 of Set 3 | pishva\n",
      "Oops, there's no data for tumannyy .\n",
      "Processing Record 27 of Set 3 | bethel\n",
      "Processing Record 28 of Set 3 | bremerton\n",
      "Processing Record 29 of Set 3 | wesselsbron\n",
      "Oops, there's no data for saleaula .\n",
      "Processing Record 31 of Set 3 | beidao\n",
      "Processing Record 32 of Set 3 | kango\n",
      "Processing Record 33 of Set 3 | palora\n",
      "Processing Record 34 of Set 3 | carndonagh\n",
      "Processing Record 35 of Set 3 | upernavik\n",
      "Processing Record 36 of Set 3 | port elizabeth\n",
      "Processing Record 37 of Set 3 | olmos\n",
      "Processing Record 38 of Set 3 | kontagora\n",
      "Processing Record 39 of Set 3 | bambous virieux\n",
      "Processing Record 40 of Set 3 | baykit\n",
      "Processing Record 41 of Set 3 | westport\n",
      "Oops, there's no data for bur gabo .\n",
      "Oops, there's no data for jabiru .\n",
      "Processing Record 44 of Set 3 | tuktoyaktuk\n",
      "Processing Record 45 of Set 3 | nemuro\n",
      "Processing Record 46 of Set 3 | namie\n",
      "Processing Record 47 of Set 3 | cayenne\n",
      "Processing Record 48 of Set 3 | olinda\n",
      "Processing Record 49 of Set 3 | hay river\n",
      "Processing Record 50 of Set 3 | broome\n",
      "Processing Record 1 of Set 4 | margate\n",
      "Processing Record 2 of Set 4 | sanguem\n",
      "Oops, there's no data for nizhneyansk .\n",
      "Processing Record 4 of Set 4 | lakhipur\n",
      "Processing Record 5 of Set 4 | clyde river\n",
      "Processing Record 6 of Set 4 | verkhniy baskunchak\n",
      "Processing Record 7 of Set 4 | terney\n",
      "Processing Record 8 of Set 4 | yerbogachen\n",
      "Processing Record 9 of Set 4 | singaraja\n",
      "Processing Record 10 of Set 4 | jinchang\n",
      "Oops, there's no data for sorvag .\n",
      "Processing Record 12 of Set 4 | kihei\n",
      "Processing Record 13 of Set 4 | portland\n",
      "Processing Record 14 of Set 4 | lata\n",
      "Processing Record 15 of Set 4 | grand gaube\n",
      "Processing Record 16 of Set 4 | aksu\n",
      "Processing Record 17 of Set 4 | san quintin\n",
      "Processing Record 18 of Set 4 | luderitz\n",
      "Processing Record 19 of Set 4 | saskylakh\n",
      "Processing Record 20 of Set 4 | maltahohe\n",
      "Processing Record 21 of Set 4 | galle\n",
      "Processing Record 22 of Set 4 | sur\n",
      "Processing Record 23 of Set 4 | rahimatpur\n",
      "Processing Record 24 of Set 4 | comodoro rivadavia\n",
      "Processing Record 25 of Set 4 | husavik\n",
      "Processing Record 26 of Set 4 | imbituba\n",
      "Processing Record 27 of Set 4 | cidreira\n",
      "Processing Record 28 of Set 4 | qaanaaq\n",
      "Processing Record 29 of Set 4 | honavar\n",
      "Processing Record 30 of Set 4 | ponta do sol\n",
      "Processing Record 31 of Set 4 | khani\n",
      "Processing Record 32 of Set 4 | wagar\n",
      "Oops, there's no data for longlac .\n",
      "Processing Record 34 of Set 4 | alice town\n",
      "Processing Record 35 of Set 4 | atikokan\n",
      "Processing Record 36 of Set 4 | caravelas\n",
      "Processing Record 37 of Set 4 | havoysund\n",
      "Processing Record 38 of Set 4 | kamaishi\n",
      "Oops, there's no data for illoqqortoormiut .\n",
      "Processing Record 40 of Set 4 | buta\n",
      "Processing Record 41 of Set 4 | bay roberts\n",
      "Processing Record 42 of Set 4 | campobello di mazara\n",
      "Processing Record 43 of Set 4 | iqaluit\n",
      "Oops, there's no data for bargal .\n",
      "Processing Record 45 of Set 4 | maragogi\n",
      "Oops, there's no data for cockburn harbour .\n",
      "Processing Record 47 of Set 4 | churapcha\n",
      "Processing Record 48 of Set 4 | kendari\n",
      "Processing Record 49 of Set 4 | richards bay\n",
      "Processing Record 50 of Set 4 | botwood\n",
      "Processing Record 1 of Set 5 | sao joao da barra\n"
     ]
    },
    {
     "name": "stdout",
     "output_type": "stream",
     "text": [
      "Processing Record 2 of Set 5 | budogoshch\n",
      "Oops, there's no data for chikoy .\n",
      "Processing Record 4 of Set 5 | araouane\n",
      "Oops, there's no data for tilsonburg .\n",
      "Processing Record 6 of Set 5 | zhanaozen\n",
      "Oops, there's no data for palabuhanratu .\n",
      "Processing Record 8 of Set 5 | isangel\n",
      "Processing Record 9 of Set 5 | kenora\n",
      "Processing Record 10 of Set 5 | belmonte\n",
      "Processing Record 11 of Set 5 | bojnurd\n",
      "Processing Record 12 of Set 5 | caiaponia\n",
      "Processing Record 13 of Set 5 | cam ranh\n",
      "Processing Record 14 of Set 5 | cape town\n",
      "Processing Record 15 of Set 5 | saint-augustin\n",
      "Oops, there's no data for taburi .\n",
      "Processing Record 17 of Set 5 | salalah\n",
      "Processing Record 18 of Set 5 | ribeira grande\n",
      "Processing Record 19 of Set 5 | fare\n",
      "Oops, there's no data for ye .\n",
      "Processing Record 21 of Set 5 | chiclana\n",
      "Processing Record 22 of Set 5 | svetlyy\n",
      "Processing Record 23 of Set 5 | menongue\n",
      "Oops, there's no data for belushya guba .\n",
      "Processing Record 25 of Set 5 | port blair\n",
      "Processing Record 26 of Set 5 | porgera\n",
      "Processing Record 27 of Set 5 | kushima\n",
      "Processing Record 28 of Set 5 | srandakan\n",
      "Processing Record 29 of Set 5 | saldanha\n",
      "Processing Record 30 of Set 5 | poronaysk\n",
      "Processing Record 31 of Set 5 | avarua\n",
      "Processing Record 32 of Set 5 | saint-philippe\n",
      "Processing Record 33 of Set 5 | nikolskoye\n",
      "Processing Record 34 of Set 5 | aktash\n",
      "Processing Record 35 of Set 5 | erdenet\n",
      "Processing Record 36 of Set 5 | bengkulu\n",
      "Processing Record 37 of Set 5 | gornopravdinsk\n",
      "Processing Record 38 of Set 5 | khandbari\n",
      "Processing Record 39 of Set 5 | guerrero negro\n",
      "Processing Record 40 of Set 5 | victoria\n",
      "Processing Record 41 of Set 5 | dobele\n",
      "Processing Record 42 of Set 5 | manggar\n",
      "Processing Record 43 of Set 5 | annaka\n",
      "Processing Record 44 of Set 5 | lavrentiya\n",
      "Oops, there's no data for warqla .\n",
      "Processing Record 46 of Set 5 | harlingen\n",
      "Processing Record 47 of Set 5 | karachi\n",
      "Processing Record 48 of Set 5 | golden\n",
      "Processing Record 49 of Set 5 | kodiak\n",
      "Processing Record 50 of Set 5 | malinovoye ozero\n",
      "Processing Record 1 of Set 6 | petropavlovsk-kamchatskiy\n",
      "Processing Record 2 of Set 6 | ola\n",
      "Processing Record 3 of Set 6 | indian head\n",
      "Processing Record 4 of Set 6 | denpasar\n",
      "Processing Record 5 of Set 6 | sonoita\n",
      "Processing Record 6 of Set 6 | hasaki\n",
      "Processing Record 7 of Set 6 | praia\n",
      "Processing Record 8 of Set 6 | san vicente\n",
      "Processing Record 9 of Set 6 | nome\n",
      "Processing Record 10 of Set 6 | ahipara\n",
      "Processing Record 11 of Set 6 | college\n",
      "Processing Record 12 of Set 6 | rock sound\n",
      "Processing Record 13 of Set 6 | hammerfest\n",
      "Processing Record 14 of Set 6 | korfovskiy\n",
      "Processing Record 15 of Set 6 | ayan\n",
      "Processing Record 16 of Set 6 | nabire\n",
      "Processing Record 17 of Set 6 | auki\n",
      "Processing Record 18 of Set 6 | raga\n",
      "Processing Record 19 of Set 6 | heinola\n",
      "Processing Record 20 of Set 6 | semiletka\n",
      "Oops, there's no data for toliary .\n",
      "Processing Record 22 of Set 6 | wonthaggi\n",
      "Processing Record 23 of Set 6 | kushalgarh\n",
      "Processing Record 24 of Set 6 | carinhanha\n",
      "Processing Record 25 of Set 6 | pandan\n",
      "Oops, there's no data for kracheh .\n",
      "Processing Record 27 of Set 6 | mananara\n",
      "Processing Record 28 of Set 6 | kaduna\n",
      "Processing Record 29 of Set 6 | rio gallegos\n"
     ]
    }
   ],
   "source": [
    "# create a dictionary to hold target info from API\n",
    "city_info = {\"City\":[], \"Lat\":[], \"Lng\":[], \"Max Temp\": [], \"Humidity\": [],\n",
    "             \"Cloudiness\":[], \"Wind Speed\": [], \"Country\":[], \"Date\": []}\n",
    " \n",
    "# keep track of API request\n",
    "x, i = 1, 1\n",
    "\n",
    "# gather data\n",
    "print(\"Beginning Data Retrieval\\n-----------------------------\")\n",
    "for city in cities:\n",
    "    try:\n",
    "        response = requests.get(f\"http://api.openweathermap.org/data/2.5/weather?q={city}&units=imperial&appid={weather_api_key}\").json()\n",
    "        if city not in city_info:\n",
    "            city_info[\"City\"].append(response[\"name\"])\n",
    "            city_info[\"Lat\"].append(response[\"coord\"][\"lat\"])\n",
    "            city_info[\"Lng\"].append(response[\"coord\"][\"lon\"])\n",
    "            city_info[\"Max Temp\"].append(response[\"main\"][\"temp_max\"])\n",
    "            city_info[\"Humidity\"].append(response[\"main\"][\"humidity\"])\n",
    "            city_info[\"Cloudiness\"].append(response[\"clouds\"][\"all\"])\n",
    "            city_info[\"Wind Speed\"].append(response[\"wind\"][\"speed\"])\n",
    "            city_info[\"Country\"].append(response[\"sys\"][\"country\"])\n",
    "            city_info[\"Date\"].append(response[\"dt\"])\n",
    "            print(f\"Processing Record {x} of Set {i} | {city}\")\n",
    "    except KeyError:\n",
    "        print(\"Oops, there's no data for\",city,\".\")\n",
    "    x += 1\n",
    "    if x > 50:\n",
    "        x = 1\n",
    "        i += 1"
   ]
  },
  {
   "cell_type": "markdown",
   "metadata": {},
   "source": [
    "### Convert Raw Data to DataFrame\n",
    "* Export the city data into a .csv.\n",
    "* Display the DataFrame"
   ]
  },
  {
   "cell_type": "code",
   "execution_count": 10,
   "metadata": {
    "scrolled": true
   },
   "outputs": [],
   "source": [
    "# create df\n",
    "city_data = pd.DataFrame(city_info)\n",
    "\n",
    "#display(city_data)\n",
    "\n",
    "# export to csv\n",
    "city_data.to_csv(\"city_data.csv\")"
   ]
  },
  {
   "cell_type": "code",
   "execution_count": 11,
   "metadata": {},
   "outputs": [
    {
     "name": "stdout",
     "output_type": "stream",
     "text": [
      "                        City      Lat       Lng  Max Temp  Humidity  \\\n",
      "0               Punta Arenas -53.1500  -70.9167     42.91        81   \n",
      "1    Arrondissement du Havre  49.5833    0.3333     51.44        92   \n",
      "2                      Bluff -46.6000  168.3333     55.54        85   \n",
      "3                    Ushuaia -54.8000  -68.3000     31.12        88   \n",
      "4                     Ābādān  30.3392   48.3043     80.55        22   \n",
      "..                       ...      ...       ...       ...       ...   \n",
      "246               Carinhanha -14.3047  -43.7650     71.98        70   \n",
      "247                   Pandan  14.0453  124.1694     82.22        82   \n",
      "248                 Mananara -16.1667   49.7667     77.72        71   \n",
      "249                   Kaduna  10.5222    7.4383     76.95        69   \n",
      "250             Río Gallegos -51.6226  -69.2181     39.25        70   \n",
      "\n",
      "     Cloudiness  Wind Speed Country        Date  \n",
      "0            40       17.27      CL  1635316357  \n",
      "1           100        9.80      FR  1635316358  \n",
      "2            48        7.78      NZ  1635316358  \n",
      "3           100        6.46      AR  1635316254  \n",
      "4             0        4.61      IR  1635316359  \n",
      "..          ...         ...     ...         ...  \n",
      "246           4        7.83      BR  1635316469  \n",
      "247          34       11.18      PH  1635316469  \n",
      "248          79        6.29      MG  1635316470  \n",
      "249          96        0.87      NG  1635316470  \n",
      "250           0        6.91      AR  1635316471  \n",
      "\n",
      "[251 rows x 9 columns]\n"
     ]
    }
   ],
   "source": [
    "# display df\n",
    "print(city_data)"
   ]
  },
  {
   "cell_type": "markdown",
   "metadata": {},
   "source": [
    "## Inspect the data and remove the cities where the humidity > 100%.\n",
    "----\n",
    "Skip this step if there are no cities that have humidity > 100%. "
   ]
  },
  {
   "cell_type": "code",
   "execution_count": 12,
   "metadata": {},
   "outputs": [
    {
     "data": {
      "text/html": [
       "<div>\n",
       "<style scoped>\n",
       "    .dataframe tbody tr th:only-of-type {\n",
       "        vertical-align: middle;\n",
       "    }\n",
       "\n",
       "    .dataframe tbody tr th {\n",
       "        vertical-align: top;\n",
       "    }\n",
       "\n",
       "    .dataframe thead th {\n",
       "        text-align: right;\n",
       "    }\n",
       "</style>\n",
       "<table border=\"1\" class=\"dataframe\">\n",
       "  <thead>\n",
       "    <tr style=\"text-align: right;\">\n",
       "      <th></th>\n",
       "      <th>Lat</th>\n",
       "      <th>Lng</th>\n",
       "      <th>Max Temp</th>\n",
       "      <th>Humidity</th>\n",
       "      <th>Cloudiness</th>\n",
       "      <th>Wind Speed</th>\n",
       "      <th>Date</th>\n",
       "    </tr>\n",
       "  </thead>\n",
       "  <tbody>\n",
       "    <tr>\n",
       "      <th>count</th>\n",
       "      <td>251.000000</td>\n",
       "      <td>251.000000</td>\n",
       "      <td>251.000000</td>\n",
       "      <td>251.000000</td>\n",
       "      <td>251.000000</td>\n",
       "      <td>251.000000</td>\n",
       "      <td>2.510000e+02</td>\n",
       "    </tr>\n",
       "    <tr>\n",
       "      <th>mean</th>\n",
       "      <td>18.641178</td>\n",
       "      <td>17.735354</td>\n",
       "      <td>59.523147</td>\n",
       "      <td>71.916335</td>\n",
       "      <td>58.378486</td>\n",
       "      <td>7.700319</td>\n",
       "      <td>1.635316e+09</td>\n",
       "    </tr>\n",
       "    <tr>\n",
       "      <th>std</th>\n",
       "      <td>35.610900</td>\n",
       "      <td>94.085341</td>\n",
       "      <td>22.702885</td>\n",
       "      <td>19.798307</td>\n",
       "      <td>40.803384</td>\n",
       "      <td>5.521548</td>\n",
       "      <td>8.993010e+01</td>\n",
       "    </tr>\n",
       "    <tr>\n",
       "      <th>min</th>\n",
       "      <td>-54.800000</td>\n",
       "      <td>-175.200000</td>\n",
       "      <td>-18.110000</td>\n",
       "      <td>12.000000</td>\n",
       "      <td>0.000000</td>\n",
       "      <td>0.000000</td>\n",
       "      <td>1.635315e+09</td>\n",
       "    </tr>\n",
       "    <tr>\n",
       "      <th>25%</th>\n",
       "      <td>-9.406100</td>\n",
       "      <td>-66.402550</td>\n",
       "      <td>45.185000</td>\n",
       "      <td>63.000000</td>\n",
       "      <td>12.000000</td>\n",
       "      <td>3.970000</td>\n",
       "      <td>1.635316e+09</td>\n",
       "    </tr>\n",
       "    <tr>\n",
       "      <th>50%</th>\n",
       "      <td>22.075200</td>\n",
       "      <td>23.433300</td>\n",
       "      <td>63.840000</td>\n",
       "      <td>76.000000</td>\n",
       "      <td>75.000000</td>\n",
       "      <td>6.350000</td>\n",
       "      <td>1.635316e+09</td>\n",
       "    </tr>\n",
       "    <tr>\n",
       "      <th>75%</th>\n",
       "      <td>49.400000</td>\n",
       "      <td>102.272600</td>\n",
       "      <td>78.435000</td>\n",
       "      <td>85.000000</td>\n",
       "      <td>100.000000</td>\n",
       "      <td>10.260000</td>\n",
       "      <td>1.635316e+09</td>\n",
       "    </tr>\n",
       "    <tr>\n",
       "      <th>max</th>\n",
       "      <td>78.218600</td>\n",
       "      <td>179.316700</td>\n",
       "      <td>93.790000</td>\n",
       "      <td>100.000000</td>\n",
       "      <td>100.000000</td>\n",
       "      <td>33.200000</td>\n",
       "      <td>1.635316e+09</td>\n",
       "    </tr>\n",
       "  </tbody>\n",
       "</table>\n",
       "</div>"
      ],
      "text/plain": [
       "              Lat         Lng    Max Temp    Humidity  Cloudiness  Wind Speed  \\\n",
       "count  251.000000  251.000000  251.000000  251.000000  251.000000  251.000000   \n",
       "mean    18.641178   17.735354   59.523147   71.916335   58.378486    7.700319   \n",
       "std     35.610900   94.085341   22.702885   19.798307   40.803384    5.521548   \n",
       "min    -54.800000 -175.200000  -18.110000   12.000000    0.000000    0.000000   \n",
       "25%     -9.406100  -66.402550   45.185000   63.000000   12.000000    3.970000   \n",
       "50%     22.075200   23.433300   63.840000   76.000000   75.000000    6.350000   \n",
       "75%     49.400000  102.272600   78.435000   85.000000  100.000000   10.260000   \n",
       "max     78.218600  179.316700   93.790000  100.000000  100.000000   33.200000   \n",
       "\n",
       "               Date  \n",
       "count  2.510000e+02  \n",
       "mean   1.635316e+09  \n",
       "std    8.993010e+01  \n",
       "min    1.635315e+09  \n",
       "25%    1.635316e+09  \n",
       "50%    1.635316e+09  \n",
       "75%    1.635316e+09  \n",
       "max    1.635316e+09  "
      ]
     },
     "execution_count": 12,
     "metadata": {},
     "output_type": "execute_result"
    }
   ],
   "source": [
    "clean_df = city_data.drop(columns=[\"City\", \"Country\"])\n",
    "#print(clean_df)\n",
    "\n",
    "Hum_100 = {}\n",
    "\n",
    "# create summary table where humidity is less than 100%\n",
    "for column in clean_df.columns:\n",
    "    Hum_100[column] = [clean_df[column].count(),\n",
    "                         clean_df[column].mean(),\n",
    "                         clean_df[column].std(),\n",
    "                         clean_df[column].min(),\n",
    "                         clean_df[column].quantile(.25),\n",
    "                         clean_df[column].quantile(.50),\n",
    "                         clean_df[column].quantile(.75),\n",
    "                         clean_df[column].max()]\n",
    "H100_df = pd.DataFrame(Hum_100)\n",
    "index_names = {0:'count', 1:'mean', 2:'std', 3:'min', 4:'25%', 5:'50%', 6:'75%', 7:'max'}\n",
    "H100_df = H100_df.rename(index=index_names)\n",
    "H100_df"
   ]
  },
  {
   "cell_type": "code",
   "execution_count": 13,
   "metadata": {},
   "outputs": [
    {
     "data": {
      "text/plain": [
       "Int64Index([31, 82, 153], dtype='int64')"
      ]
     },
     "execution_count": 13,
     "metadata": {},
     "output_type": "execute_result"
    }
   ],
   "source": [
    "#  Get the indices of cities that have humidity over 100%.\n",
    "humidity = clean_df[clean_df[\"Humidity\"] >= 100]\n",
    "humidity.index"
   ]
  },
  {
   "cell_type": "code",
   "execution_count": 14,
   "metadata": {},
   "outputs": [
    {
     "data": {
      "text/html": [
       "<div>\n",
       "<style scoped>\n",
       "    .dataframe tbody tr th:only-of-type {\n",
       "        vertical-align: middle;\n",
       "    }\n",
       "\n",
       "    .dataframe tbody tr th {\n",
       "        vertical-align: top;\n",
       "    }\n",
       "\n",
       "    .dataframe thead th {\n",
       "        text-align: right;\n",
       "    }\n",
       "</style>\n",
       "<table border=\"1\" class=\"dataframe\">\n",
       "  <thead>\n",
       "    <tr style=\"text-align: right;\">\n",
       "      <th></th>\n",
       "      <th>Lat</th>\n",
       "      <th>Lng</th>\n",
       "      <th>Max Temp</th>\n",
       "      <th>Humidity</th>\n",
       "      <th>Cloudiness</th>\n",
       "      <th>Wind Speed</th>\n",
       "      <th>Date</th>\n",
       "    </tr>\n",
       "  </thead>\n",
       "  <tbody>\n",
       "    <tr>\n",
       "      <th>0</th>\n",
       "      <td>-53.1500</td>\n",
       "      <td>-70.9167</td>\n",
       "      <td>42.91</td>\n",
       "      <td>81</td>\n",
       "      <td>40</td>\n",
       "      <td>17.27</td>\n",
       "      <td>1635316357</td>\n",
       "    </tr>\n",
       "    <tr>\n",
       "      <th>1</th>\n",
       "      <td>49.5833</td>\n",
       "      <td>0.3333</td>\n",
       "      <td>51.44</td>\n",
       "      <td>92</td>\n",
       "      <td>100</td>\n",
       "      <td>9.80</td>\n",
       "      <td>1635316358</td>\n",
       "    </tr>\n",
       "    <tr>\n",
       "      <th>2</th>\n",
       "      <td>-46.6000</td>\n",
       "      <td>168.3333</td>\n",
       "      <td>55.54</td>\n",
       "      <td>85</td>\n",
       "      <td>48</td>\n",
       "      <td>7.78</td>\n",
       "      <td>1635316358</td>\n",
       "    </tr>\n",
       "    <tr>\n",
       "      <th>3</th>\n",
       "      <td>-54.8000</td>\n",
       "      <td>-68.3000</td>\n",
       "      <td>31.12</td>\n",
       "      <td>88</td>\n",
       "      <td>100</td>\n",
       "      <td>6.46</td>\n",
       "      <td>1635316254</td>\n",
       "    </tr>\n",
       "    <tr>\n",
       "      <th>4</th>\n",
       "      <td>30.3392</td>\n",
       "      <td>48.3043</td>\n",
       "      <td>80.55</td>\n",
       "      <td>22</td>\n",
       "      <td>0</td>\n",
       "      <td>4.61</td>\n",
       "      <td>1635316359</td>\n",
       "    </tr>\n",
       "    <tr>\n",
       "      <th>...</th>\n",
       "      <td>...</td>\n",
       "      <td>...</td>\n",
       "      <td>...</td>\n",
       "      <td>...</td>\n",
       "      <td>...</td>\n",
       "      <td>...</td>\n",
       "      <td>...</td>\n",
       "    </tr>\n",
       "    <tr>\n",
       "      <th>246</th>\n",
       "      <td>-14.3047</td>\n",
       "      <td>-43.7650</td>\n",
       "      <td>71.98</td>\n",
       "      <td>70</td>\n",
       "      <td>4</td>\n",
       "      <td>7.83</td>\n",
       "      <td>1635316469</td>\n",
       "    </tr>\n",
       "    <tr>\n",
       "      <th>247</th>\n",
       "      <td>14.0453</td>\n",
       "      <td>124.1694</td>\n",
       "      <td>82.22</td>\n",
       "      <td>82</td>\n",
       "      <td>34</td>\n",
       "      <td>11.18</td>\n",
       "      <td>1635316469</td>\n",
       "    </tr>\n",
       "    <tr>\n",
       "      <th>248</th>\n",
       "      <td>-16.1667</td>\n",
       "      <td>49.7667</td>\n",
       "      <td>77.72</td>\n",
       "      <td>71</td>\n",
       "      <td>79</td>\n",
       "      <td>6.29</td>\n",
       "      <td>1635316470</td>\n",
       "    </tr>\n",
       "    <tr>\n",
       "      <th>249</th>\n",
       "      <td>10.5222</td>\n",
       "      <td>7.4383</td>\n",
       "      <td>76.95</td>\n",
       "      <td>69</td>\n",
       "      <td>96</td>\n",
       "      <td>0.87</td>\n",
       "      <td>1635316470</td>\n",
       "    </tr>\n",
       "    <tr>\n",
       "      <th>250</th>\n",
       "      <td>-51.6226</td>\n",
       "      <td>-69.2181</td>\n",
       "      <td>39.25</td>\n",
       "      <td>70</td>\n",
       "      <td>0</td>\n",
       "      <td>6.91</td>\n",
       "      <td>1635316471</td>\n",
       "    </tr>\n",
       "  </tbody>\n",
       "</table>\n",
       "<p>248 rows × 7 columns</p>\n",
       "</div>"
      ],
      "text/plain": [
       "         Lat       Lng  Max Temp  Humidity  Cloudiness  Wind Speed        Date\n",
       "0   -53.1500  -70.9167     42.91        81          40       17.27  1635316357\n",
       "1    49.5833    0.3333     51.44        92         100        9.80  1635316358\n",
       "2   -46.6000  168.3333     55.54        85          48        7.78  1635316358\n",
       "3   -54.8000  -68.3000     31.12        88         100        6.46  1635316254\n",
       "4    30.3392   48.3043     80.55        22           0        4.61  1635316359\n",
       "..       ...       ...       ...       ...         ...         ...         ...\n",
       "246 -14.3047  -43.7650     71.98        70           4        7.83  1635316469\n",
       "247  14.0453  124.1694     82.22        82          34       11.18  1635316469\n",
       "248 -16.1667   49.7667     77.72        71          79        6.29  1635316470\n",
       "249  10.5222    7.4383     76.95        69          96        0.87  1635316470\n",
       "250 -51.6226  -69.2181     39.25        70           0        6.91  1635316471\n",
       "\n",
       "[248 rows x 7 columns]"
      ]
     },
     "execution_count": 14,
     "metadata": {},
     "output_type": "execute_result"
    }
   ],
   "source": [
    "# Make a new DataFrame equal to the city data to drop all humidity outliers by index.\n",
    "# Passing \"inplace=False\" will make a copy of the city_data DataFrame, which we call \"clean_city_data\".\n",
    "\n",
    "clean_city_data = clean_df.drop(humidity.index)\n",
    "clean_city_data"
   ]
  },
  {
   "cell_type": "markdown",
   "metadata": {},
   "source": [
    "## Plotting the Data\n",
    "* Use proper labeling of the plots using plot titles (including date of analysis) and axes labels.\n",
    "* Save the plotted figures as .pngs."
   ]
  },
  {
   "cell_type": "markdown",
   "metadata": {},
   "source": [
    "## Latitude vs. Temperature Plot"
   ]
  },
  {
   "cell_type": "code",
   "execution_count": 15,
   "metadata": {},
   "outputs": [
    {
     "data": {
      "image/png": "[encoded data removed]",
      "text/plain": [
       "<Figure size 432x288 with 1 Axes>"
      ]
     },
     "metadata": {
      "needs_background": "light"
     },
     "output_type": "display_data"
    }
   ],
   "source": [
    "scatter1 = clean_city_data.plot.scatter(x='Lat',\n",
    "                    y='Max Temp',\n",
    "                    title = \"City Latitude vs. Max Temperature\")"
   ]
  },
  {
   "cell_type": "markdown",
   "metadata": {},
   "source": [
    "## Latitude vs. Humidity Plot"
   ]
  },
  {
   "cell_type": "code",
   "execution_count": 16,
   "metadata": {},
   "outputs": [
    {
     "data": {
      "image/png": "[encoded data removed]",
      "text/plain": [
       "<Figure size 432x288 with 1 Axes>"
      ]
     },
     "metadata": {
      "needs_background": "light"
     },
     "output_type": "display_data"
    }
   ],
   "source": [
    "scatter2 = clean_city_data.plot.scatter(x='Lat',\n",
    "                    y='Humidity',\n",
    "                    title = \"City Latitude vs. Humidity\")"
   ]
  },
  {
   "cell_type": "markdown",
   "metadata": {},
   "source": [
    "## Latitude vs. Cloudiness Plot"
   ]
  },
  {
   "cell_type": "code",
   "execution_count": 17,
   "metadata": {},
   "outputs": [
    {
     "data": {
      "image/png": "[encoded data removed]",
      "text/plain": [
       "<Figure size 432x288 with 1 Axes>"
      ]
     },
     "metadata": {
      "needs_background": "light"
     },
     "output_type": "display_data"
    }
   ],
   "source": [
    "scatter3 = clean_city_data.plot.scatter(x='Lat',\n",
    "                    y='Cloudiness',\n",
    "                    title = \"City Latitude vs. Cloudiness\")"
   ]
  },
  {
   "cell_type": "markdown",
   "metadata": {},
   "source": [
    "## Latitude vs. Wind Speed Plot"
   ]
  },
  {
   "cell_type": "code",
   "execution_count": 18,
   "metadata": {},
   "outputs": [
    {
     "data": {
      "image/png": "[encoded data removed]",
      "text/plain": [
       "<Figure size 432x288 with 1 Axes>"
      ]
     },
     "metadata": {
      "needs_background": "light"
     },
     "output_type": "display_data"
    }
   ],
   "source": [
    "scatter3 = clean_city_data.plot.scatter(x='Lat',\n",
    "                    y='Wind Speed',\n",
    "                    title = \"City Latitude vs. Wind Speed\")"
   ]
  },
  {
   "cell_type": "markdown",
   "metadata": {},
   "source": [
    "## Linear Regression"
   ]
  },
  {
   "cell_type": "code",
   "execution_count": 19,
   "metadata": {},
   "outputs": [],
   "source": [
    "nh_weather = clean_city_data[clean_city_data[\"Lat\"] > 0]\n",
    "sh_weather = clean_city_data[clean_city_data[\"Lat\"] < 0]\n",
    "#nh_weather.describe()\n",
    "#sh_weather.describe()"
   ]
  },
  {
   "cell_type": "code",
   "execution_count": 20,
   "metadata": {},
   "outputs": [
    {
     "name": "stdout",
     "output_type": "stream",
     "text": [
      "         Lat       Lng  Max Temp  Humidity  Cloudiness  Wind Speed        Date\n",
      "1    49.5833    0.3333     51.44        92         100        9.80  1635316358\n",
      "4    30.3392   48.3043     80.55        22           0        4.61  1635316359\n",
      "5     2.9167   73.5667     81.82        74         100       11.30  1635316359\n",
      "6    21.4267   39.8261     88.90        38           0        9.15  1635316359\n",
      "8    59.8518   48.2783     34.29        94         100        8.01  1635316360\n",
      "..       ...       ...       ...       ...         ...         ...         ...\n",
      "242  61.2056   26.0381     44.69        91          66        7.67  1635316467\n",
      "243  55.3603   54.6153     37.09        65          97       14.81  1635316467\n",
      "245  23.1990   74.4507     86.25        36           0        7.63  1635316468\n",
      "247  14.0453  124.1694     82.22        82          34       11.18  1635316469\n",
      "249  10.5222    7.4383     76.95        69          96        0.87  1635316470\n",
      "\n",
      "[160 rows x 7 columns]\n"
     ]
    }
   ],
   "source": [
    "print(nh_weather)"
   ]
  },
  {
   "cell_type": "markdown",
   "metadata": {},
   "source": [
    "####  Northern Hemisphere - Max Temp vs. Latitude Linear Regression"
   ]
  },
  {
   "cell_type": "code",
   "execution_count": 21,
   "metadata": {},
   "outputs": [],
   "source": [
    "north_weather = nh_weather.rename(columns={\"Lat\":\"Latitude\", \"Lng\":\"Longitude\", \"Max Temp\":\"Max_Temperature\", \"Humidity\":\"Humidity\", \"Cloudiness\":\"Cloudiness\", \"Wind Speed\":\"Wind_Speed\"})\n",
    "\n",
    "south_weather = sh_weather.rename(columns={\"Lat\":\"Latitude\", \"Lng\":\"Longitude\", \"Max Temp\":\"Max_Temperature\", \"Humidity\":\"Humidity\", \"Cloudiness\":\"Cloudiness\", \"Wind Speed\":\"Wind_Speed\"})"
   ]
  },
  {
   "cell_type": "code",
   "execution_count": 22,
   "metadata": {},
   "outputs": [
    {
     "name": "stdout",
     "output_type": "stream",
     "text": [
      "-0.9172030691023021\n"
     ]
    },
    {
     "data": {
      "text/plain": [
       "Text(0, 0, 'y=81.77+-0.76*x')"
      ]
     },
     "execution_count": 22,
     "metadata": {},
     "output_type": "execute_result"
    },
    {
     "data": {
      "image/png": "[encoded data removed]",
      "text/plain": [
       "<Figure size 432x288 with 1 Axes>"
      ]
     },
     "metadata": {
      "needs_background": "light"
     },
     "output_type": "display_data"
    }
   ],
   "source": [
    "r = north_weather.corr(method='pearson', min_periods=1)\n",
    "print(r['Max_Temperature']['Latitude'])\n",
    "temp_fit = np.polyfit(north_weather.Max_Temperature, north_weather.Latitude, 1)\n",
    "lr_scatter1 = north_weather.plot.scatter(x='Latitude', y='Max_Temperature', color='blue', alpha=0.5)\n",
    "plt.plot(north_weather.Max_Temperature, temp_fit[0] * north_weather.Max_Temperature + temp_fit[1], color = 'darkblue', linewidth = 2)\n",
    "plt.text(0, 0, 'y={:.2f}+{:.2f}*x'.format(temp_fit[1], temp_fit[0]), color='darkblue', size=12)\n"
   ]
  },
  {
   "cell_type": "markdown",
   "metadata": {},
   "source": [
    "####  Southern Hemisphere - Max Temp vs. Latitude Linear Regression"
   ]
  },
  {
   "cell_type": "code",
   "execution_count": 23,
   "metadata": {},
   "outputs": [
    {
     "name": "stdout",
     "output_type": "stream",
     "text": [
      "0.6195704806232617\n"
     ]
    },
    {
     "data": {
      "text/plain": [
       "Text(-40, -40, 'y=-77.53+0.78*x')"
      ]
     },
     "execution_count": 23,
     "metadata": {},
     "output_type": "execute_result"
    },
    {
     "data": {
      "image/png": "[encoded data removed]",
      "text/plain": [
       "<Figure size 432x288 with 1 Axes>"
      ]
     },
     "metadata": {
      "needs_background": "light"
     },
     "output_type": "display_data"
    }
   ],
   "source": [
    "r = south_weather.corr(method='pearson', min_periods=1)\n",
    "print(r['Max_Temperature']['Latitude'])\n",
    "temp_fit = np.polyfit(south_weather.Max_Temperature, south_weather.Latitude, 1)\n",
    "south_weather.plot.scatter(x='Latitude', y='Max_Temperature', color='blue', alpha=0.5)\n",
    "plt.plot(south_weather.Max_Temperature, temp_fit[0] * south_weather.Max_Temperature + temp_fit[1], color = 'darkblue', linewidth = 2)\n",
    "plt.text(-40, -40, 'y={:.2f}+{:.2f}*x'.format(temp_fit[1], temp_fit[0]), color='darkblue', size=12)\n"
   ]
  },
  {
   "cell_type": "markdown",
   "metadata": {},
   "source": [
    "####  Northern Hemisphere - Humidity (%) vs. Latitude Linear Regression"
   ]
  },
  {
   "cell_type": "code",
   "execution_count": 28,
   "metadata": {},
   "outputs": [
    {
     "name": "stdout",
     "output_type": "stream",
     "text": [
      "0.3579013033627116\n"
     ]
    },
    {
     "data": {
      "text/plain": [
       "Text(15, 5, 'y=15.30+0.35*x')"
      ]
     },
     "execution_count": 28,
     "metadata": {},
     "output_type": "execute_result"
    },
    {
     "data": {
      "image/png": "[encoded data removed]",
      "text/plain": [
       "<Figure size 432x288 with 1 Axes>"
      ]
     },
     "metadata": {
      "needs_background": "light"
     },
     "output_type": "display_data"
    }
   ],
   "source": [
    "r = north_weather.corr(method='pearson', min_periods=1)\n",
    "print(r['Humidity']['Latitude'])\n",
    "temp_fit = np.polyfit(north_weather.Humidity, north_weather.Latitude, 1)\n",
    "north_weather.plot.scatter(x='Humidity', y='Latitude', color='blue', alpha=0.5)\n",
    "plt.plot(north_weather.Humidity, temp_fit[0] * north_weather.Humidity + temp_fit[1], color = 'darkblue', linewidth = 2)\n",
    "plt.text(15, 5, 'y={:.2f}+{:.2f}*x'.format(temp_fit[1], temp_fit[0]), color='darkblue', size=12)\n"
   ]
  },
  {
   "cell_type": "markdown",
   "metadata": {},
   "source": [
    "####  Southern Hemisphere - Humidity (%) vs. Latitude Linear Regression"
   ]
  },
  {
   "cell_type": "code",
   "execution_count": 34,
   "metadata": {},
   "outputs": [
    {
     "name": "stdout",
     "output_type": "stream",
     "text": [
      "0.2103393159328117\n"
     ]
    },
    {
     "data": {
      "text/plain": [
       "Text(15, -50, 'y=-35.03+0.17*x')"
      ]
     },
     "execution_count": 34,
     "metadata": {},
     "output_type": "execute_result"
    },
    {
     "data": {
      "image/png": "[encoded data removed]",
      "text/plain": [
       "<Figure size 432x288 with 1 Axes>"
      ]
     },
     "metadata": {
      "needs_background": "light"
     },
     "output_type": "display_data"
    }
   ],
   "source": [
    "r = south_weather.corr(method='pearson', min_periods=1)\n",
    "print(r['Humidity']['Latitude'])\n",
    "temp_fit = np.polyfit(south_weather.Humidity, south_weather.Latitude, 1)\n",
    "south_weather.plot.scatter(x='Humidity', y='Latitude', color='blue', alpha=0.5)\n",
    "plt.plot(south_weather.Humidity, temp_fit[0] * south_weather.Humidity + temp_fit[1], color = 'darkblue', linewidth = 2)\n",
    "plt.text(15, -50, 'y={:.2f}+{:.2f}*x'.format(temp_fit[1], temp_fit[0]), color='darkblue', size=12)\n"
   ]
  },
  {
   "cell_type": "markdown",
   "metadata": {},
   "source": [
    "####  Northern Hemisphere - Cloudiness (%) vs. Latitude Linear Regression"
   ]
  },
  {
   "cell_type": "code",
   "execution_count": 36,
   "metadata": {},
   "outputs": [
    {
     "name": "stdout",
     "output_type": "stream",
     "text": [
      "0.2644779361772572\n"
     ]
    },
    {
     "data": {
      "text/plain": [
       "Text(0, 0, 'y=33.04+0.13*x')"
      ]
     },
     "execution_count": 36,
     "metadata": {},
     "output_type": "execute_result"
    },
    {
     "data": {
      "image/png": "[encoded data removed]",
      "text/plain": [
       "<Figure size 432x288 with 1 Axes>"
      ]
     },
     "metadata": {
      "needs_background": "light"
     },
     "output_type": "display_data"
    }
   ],
   "source": [
    "r = north_weather.corr(method='pearson', min_periods=1)\n",
    "print(r['Cloudiness']['Latitude'])\n",
    "temp_fit = np.polyfit(north_weather.Cloudiness, north_weather.Latitude, 1)\n",
    "north_weather.plot.scatter(x='Cloudiness', y='Latitude', color='blue', alpha=0.5)\n",
    "plt.plot(north_weather.Cloudiness, temp_fit[0] * north_weather.Cloudiness + temp_fit[1], color = 'darkblue', linewidth = 2)\n",
    "plt.text(0, 0, 'y={:.2f}+{:.2f}*x'.format(temp_fit[1], temp_fit[0]), color='darkblue', size=12)\n"
   ]
  },
  {
   "cell_type": "markdown",
   "metadata": {},
   "source": [
    "####  Southern Hemisphere - Cloudiness (%) vs. Latitude Linear Regression"
   ]
  },
  {
   "cell_type": "code",
   "execution_count": 41,
   "metadata": {},
   "outputs": [
    {
     "name": "stdout",
     "output_type": "stream",
     "text": [
      "0.20621708837076513\n"
     ]
    },
    {
     "data": {
      "text/plain": [
       "Text(0, -50, 'y=-27.06+0.08*x')"
      ]
     },
     "execution_count": 41,
     "metadata": {},
     "output_type": "execute_result"
    },
    {
     "data": {
      "image/png": "[encoded data removed]",
      "text/plain": [
       "<Figure size 432x288 with 1 Axes>"
      ]
     },
     "metadata": {
      "needs_background": "light"
     },
     "output_type": "display_data"
    }
   ],
   "source": [
    "r = south_weather.corr(method='pearson', min_periods=1)\n",
    "print(r['Cloudiness']['Latitude'])\n",
    "temp_fit = np.polyfit(south_weather.Cloudiness, south_weather.Latitude, 1)\n",
    "south_weather.plot.scatter(x='Cloudiness', y='Latitude', color='blue', alpha=0.5)\n",
    "plt.plot(south_weather.Cloudiness, temp_fit[0] * south_weather.Cloudiness + temp_fit[1], color = 'darkblue', linewidth = 2)\n",
    "plt.text(0, -50, 'y={:.2f}+{:.2f}*x'.format(temp_fit[1], temp_fit[0]), color='darkblue', size=12)\n"
   ]
  },
  {
   "cell_type": "markdown",
   "metadata": {},
   "source": [
    "####  Northern Hemisphere - Wind Speed (mph) vs. Latitude Linear Regression"
   ]
  },
  {
   "cell_type": "code",
   "execution_count": 43,
   "metadata": {},
   "outputs": [
    {
     "name": "stdout",
     "output_type": "stream",
     "text": [
      "0.12300554613943214\n"
     ]
    },
    {
     "data": {
      "text/plain": [
       "Text(0, 0, 'y=36.82+0.49*x')"
      ]
     },
     "execution_count": 43,
     "metadata": {},
     "output_type": "execute_result"
    },
    {
     "data": {
      "image/png": "[encoded data removed]",
      "text/plain": [
       "<Figure size 432x288 with 1 Axes>"
      ]
     },
     "metadata": {
      "needs_background": "light"
     },
     "output_type": "display_data"
    }
   ],
   "source": [
    "r = north_weather.corr(method='pearson', min_periods=1)\n",
    "print(r['Wind_Speed']['Latitude'])\n",
    "temp_fit = np.polyfit(north_weather.Wind_Speed, north_weather.Latitude, 1)\n",
    "north_weather.plot.scatter(x='Wind_Speed', y='Latitude', color='blue', alpha=0.5)\n",
    "plt.plot(north_weather.Wind_Speed, temp_fit[0] * north_weather.Wind_Speed + temp_fit[1], color = 'darkblue', linewidth = 2)\n",
    "plt.text(0, 0, 'y={:.2f}+{:.2f}*x'.format(temp_fit[1], temp_fit[0]), color='darkblue', size=12)\n"
   ]
  },
  {
   "cell_type": "markdown",
   "metadata": {},
   "source": [
    "####  Southern Hemisphere - Wind Speed (mph) vs. Latitude Linear Regression"
   ]
  },
  {
   "cell_type": "code",
   "execution_count": 44,
   "metadata": {},
   "outputs": [
    {
     "name": "stdout",
     "output_type": "stream",
     "text": [
      "-0.27368777907173614\n"
     ]
    },
    {
     "data": {
      "text/plain": [
       "Text(0, -50, 'y=-17.43+-0.64*x')"
      ]
     },
     "execution_count": 44,
     "metadata": {},
     "output_type": "execute_result"
    },
    {
     "data": {
      "image/png": "[encoded data removed]",
      "text/plain": [
       "<Figure size 432x288 with 1 Axes>"
      ]
     },
     "metadata": {
      "needs_background": "light"
     },
     "output_type": "display_data"
    }
   ],
   "source": [
    "r = south_weather.corr(method='pearson', min_periods=1)\n",
    "print(r['Wind_Speed']['Latitude'])\n",
    "temp_fit = np.polyfit(south_weather.Wind_Speed, south_weather.Latitude, 1)\n",
    "south_weather.plot.scatter(x='Wind_Speed', y='Latitude', color='blue', alpha=0.5)\n",
    "plt.plot(south_weather.Wind_Speed, temp_fit[0] * south_weather.Wind_Speed + temp_fit[1], color = 'darkblue', linewidth = 2)\n",
    "plt.text(0, -50, 'y={:.2f}+{:.2f}*x'.format(temp_fit[1], temp_fit[0]), color='darkblue', size=12)\n"
   ]
  }
 ],
 "metadata": {
  "anaconda-cloud": {},
  "kernel_info": {
   "name": "python3"
  },
  "kernelspec": {
   "display_name": "Python 3 (ipykernel)",
   "language": "python",
   "name": "python3"
  },
  "language_info": {
   "codemirror_mode": {
    "name": "ipython",
    "version": 3
   },
   "file_extension": ".py",
   "mimetype": "text/x-python",
   "name": "python",
   "nbconvert_exporter": "python",
   "pygments_lexer": "ipython3",
   "version": "3.8.11"
  },
  "latex_envs": {
   "LaTeX_envs_menu_present": true,
   "autoclose": false,
   "autocomplete": true,
   "bibliofile": "biblio.bib",
   "cite_by": "apalike",
   "current_citInitial": 1,
   "eqLabelWithNumbers": true,
   "eqNumInitial": 1,
   "hotkeys": {
    "equation": "Ctrl-E",
    "itemize": "Ctrl-I"
   },
   "labels_anchors": false,
   "latex_user_defs": false,
   "report_style_numbering": false,
   "user_envs_cfg": false
  },
  "nteract": {
   "version": "0.12.3"
  }
 },
 "nbformat": 4,
 "nbformat_minor": 2
}
